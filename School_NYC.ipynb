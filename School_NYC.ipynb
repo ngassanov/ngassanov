{
 "cells": [
  {
   "cell_type": "code",
   "execution_count": 1,
   "metadata": {},
   "outputs": [],
   "source": [
    "import pandas as pd\n",
    "import numpy as np\n",
    "import re\n",
    "%matplotlib inline\n",
    "\n",
    "data_files = [\n",
    "    \"C:\\\\Users\\\\ngass\\\\Downloads\\\\ap_2010.csv\",\n",
    "    \"C:\\\\Users\\\\ngass\\\\Downloads\\\\class_size.csv\",\n",
    "    \"C:\\\\Users\\\\ngass\\\\Downloads\\\\demographics.csv\",\n",
    "    \"C:\\\\Users\\\\ngass\\\\Downloads\\\\graduation.csv\",\n",
    "    \"C:\\\\Users\\\\ngass\\\\Downloads\\\\hs_directory.csv\",\n",
    "    \"C:\\\\Users\\\\ngass\\\\Downloads\\\\sat_results.csv\"\n",
    "]\n",
    "\n",
    "data = {}\n",
    "\n",
    "for f in data_files:\n",
    "    d = pd.read_csv(\"{0}\".format(f))\n",
    "    data[f.replace(\".csv\", \"\").replace(\"C:\\\\Users\\\\ngass\\\\Downloads\\\\\", \"\")] = d"
   ]
  },
  {
   "cell_type": "code",
   "execution_count": 2,
   "metadata": {},
   "outputs": [
    {
     "name": "stdout",
     "output_type": "stream",
     "text": [
      "{'ap_2010':         DBN                                         SchoolName  \\\n",
      "0    01M448                       UNIVERSITY NEIGHBORHOOD H.S.   \n",
      "1    01M450                             EAST SIDE COMMUNITY HS   \n",
      "2    01M515                                LOWER EASTSIDE PREP   \n",
      "3    01M539                     NEW EXPLORATIONS SCI,TECH,MATH   \n",
      "4    02M296              High School of Hospitality Management   \n",
      "..      ...                                                ...   \n",
      "253  31R605                         STATEN ISLAND TECHNICAL HS   \n",
      "254  32K545                      EBC-HS FOR PUB SERVICE (BUSH)   \n",
      "255  32K552                          Academy of Urban Planning   \n",
      "256  32K554               All City Leadership Secondary School   \n",
      "257  32K556  Bushwick Leaders High School for Academic Exce...   \n",
      "\n",
      "    AP Test Takers  Total Exams Taken Number of Exams with scores 3 4 or 5  \n",
      "0                39                49                                   10  \n",
      "1                19                21                                  NaN  \n",
      "2                24                26                                   24  \n",
      "3               255               377                                  191  \n",
      "4               NaN               NaN                                  NaN  \n",
      "..              ...               ...                                  ...  \n",
      "253             528               905                                  809  \n",
      "254              47                64                                   13  \n",
      "255              76               100                                   10  \n",
      "256               7                 8                                  NaN  \n",
      "257              34                35                                   18  \n",
      "\n",
      "[258 rows x 5 columns], 'class_size':        CSD BOROUGH SCHOOL CODE                     SCHOOL NAME GRADE   \\\n",
      "0        1       M        M015       P.S. 015 Roberto Clemente     0K   \n",
      "1        1       M        M015       P.S. 015 Roberto Clemente     0K   \n",
      "2        1       M        M015       P.S. 015 Roberto Clemente     01   \n",
      "3        1       M        M015       P.S. 015 Roberto Clemente     01   \n",
      "4        1       M        M015       P.S. 015 Roberto Clemente     02   \n",
      "...    ...     ...         ...                             ...    ...   \n",
      "27606   32       K        K564  Bushwick Community High School  09-12   \n",
      "27607   32       K        K564  Bushwick Community High School  09-12   \n",
      "27608   32       K        K564  Bushwick Community High School  09-12   \n",
      "27609   32       K        K564  Bushwick Community High School  09-12   \n",
      "27610   32       K        K564  Bushwick Community High School    NaN   \n",
      "\n",
      "      PROGRAM TYPE CORE SUBJECT (MS CORE and 9-12 ONLY)  \\\n",
      "0           GEN ED                                    -   \n",
      "1              CTT                                    -   \n",
      "2           GEN ED                                    -   \n",
      "3              CTT                                    -   \n",
      "4           GEN ED                                    -   \n",
      "...            ...                                  ...   \n",
      "27606       GEN ED                       SOCIAL STUDIES   \n",
      "27607       GEN ED                       SOCIAL STUDIES   \n",
      "27608       GEN ED                       SOCIAL STUDIES   \n",
      "27609          CTT                                 MATH   \n",
      "27610          NaN                                  NaN   \n",
      "\n",
      "      CORE COURSE (MS CORE and 9-12 ONLY) SERVICE CATEGORY(K-9* ONLY)  \\\n",
      "0                                       -                           -   \n",
      "1                                       -                           -   \n",
      "2                                       -                           -   \n",
      "3                                       -                           -   \n",
      "4                                       -                           -   \n",
      "...                                   ...                         ...   \n",
      "27606             US History & Government                           -   \n",
      "27607                           Economics                           -   \n",
      "27608         Participation in Government                           -   \n",
      "27609                  Integrated Algebra                           -   \n",
      "27610                                 NaN                         NaN   \n",
      "\n",
      "      NUMBER OF STUDENTS / SEATS FILLED  NUMBER OF SECTIONS  \\\n",
      "0                                    19                 1.0   \n",
      "1                                    21                 1.0   \n",
      "2                                    17                 1.0   \n",
      "3                                    17                 1.0   \n",
      "4                                    15                 1.0   \n",
      "...                                 ...                 ...   \n",
      "27606                               256                10.0   \n",
      "27607                                65                 2.0   \n",
      "27608                                53                 2.0   \n",
      "27609                                50                 2.0   \n",
      "27610                               NaN                 NaN   \n",
      "\n",
      "       AVERAGE CLASS SIZE  SIZE OF SMALLEST CLASS  SIZE OF LARGEST CLASS  \\\n",
      "0                    19.0                    19.0                   19.0   \n",
      "1                    21.0                    21.0                   21.0   \n",
      "2                    17.0                    17.0                   17.0   \n",
      "3                    17.0                    17.0                   17.0   \n",
      "4                    15.0                    15.0                   15.0   \n",
      "...                   ...                     ...                    ...   \n",
      "27606                25.6                    15.0                   35.0   \n",
      "27607                32.5                    32.0                   33.0   \n",
      "27608                26.5                    25.0                   28.0   \n",
      "27609                25.0                    25.0                   25.0   \n",
      "27610                 NaN                     NaN                    NaN   \n",
      "\n",
      "      DATA SOURCE  SCHOOLWIDE PUPIL-TEACHER RATIO  \n",
      "0             ATS                             NaN  \n",
      "1             ATS                             NaN  \n",
      "2             ATS                             NaN  \n",
      "3             ATS                             NaN  \n",
      "4             ATS                             NaN  \n",
      "...           ...                             ...  \n",
      "27606       STARS                             NaN  \n",
      "27607       STARS                             NaN  \n",
      "27608       STARS                             NaN  \n",
      "27609       STARS                             NaN  \n",
      "27610         NaN                            17.1  \n",
      "\n",
      "[27611 rows x 16 columns], 'demographics':           DBN                                              Name  schoolyear  \\\n",
      "0      01M015                         P.S. 015 ROBERTO CLEMENTE    20052006   \n",
      "1      01M015                         P.S. 015 ROBERTO CLEMENTE    20062007   \n",
      "2      01M015                         P.S. 015 ROBERTO CLEMENTE    20072008   \n",
      "3      01M015                         P.S. 015 ROBERTO CLEMENTE    20082009   \n",
      "4      01M015                         P.S. 015 ROBERTO CLEMENTE    20092010   \n",
      "...       ...                                               ...         ...   \n",
      "10070  32K564                    BUSHWICK COMMUNITY HIGH SCHOOL    20072008   \n",
      "10071  32K564                    BUSHWICK COMMUNITY HIGH SCHOOL    20082009   \n",
      "10072  32K564                    BUSHWICK COMMUNITY HIGH SCHOOL    20092010   \n",
      "10073  32K564                    BUSHWICK COMMUNITY HIGH SCHOOL    20102011   \n",
      "10074  32K564  BUSHWICK COMMUNITY HIGH SCHOOL                      20112012   \n",
      "\n",
      "      fl_percent  frl_percent  total_enrollment  prek     k grade1 grade2  \\\n",
      "0           89.4          NaN               281    15    36     40     33   \n",
      "1           89.4          NaN               243    15    29     39     38   \n",
      "2           89.4          NaN               261    18    43     39     36   \n",
      "3           89.4          NaN               252    17    37     44     32   \n",
      "4                        96.5               208    16    40     28     32   \n",
      "...          ...          ...               ...   ...   ...    ...    ...   \n",
      "10070       85.6          NaN               355   NaN   NaN    NaN    NaN   \n",
      "10071       65.2          NaN               383   NaN   NaN    NaN    NaN   \n",
      "10072                    89.2               395   NaN   NaN    NaN    NaN   \n",
      "10073                    88.2               420   NaN   NaN    NaN    NaN   \n",
      "10074        NaN         81.8               382                             \n",
      "\n",
      "       ... black_num black_per hispanic_num hispanic_per white_num white_per  \\\n",
      "0      ...        74      26.3          189         67.3         5       1.8   \n",
      "1      ...        68      28.0          153         63.0         4       1.6   \n",
      "2      ...        77      29.5          157         60.2         7       2.7   \n",
      "3      ...        75      29.8          149         59.1         7       2.8   \n",
      "4      ...        67      32.2          118         56.7         6       2.9   \n",
      "...    ...       ...       ...          ...          ...       ...       ...   \n",
      "10070  ...       151      42.5          198         55.8         5       1.4   \n",
      "10071  ...       132      34.5          245         64.0         2       0.5   \n",
      "10072  ...       146      37.0          242         61.3         3       0.8   \n",
      "10073  ...       166      39.5          242         57.6         8       1.9   \n",
      "10074  ...       137      35.9          235         61.5         7       1.8   \n",
      "\n",
      "      male_num male_per female_num female_per  \n",
      "0        158.0     56.2      123.0       43.8  \n",
      "1        140.0     57.6      103.0       42.4  \n",
      "2        143.0     54.8      118.0       45.2  \n",
      "3        149.0     59.1      103.0       40.9  \n",
      "4        124.0     59.6       84.0       40.4  \n",
      "...        ...      ...        ...        ...  \n",
      "10070    181.0     51.0      174.0       49.0  \n",
      "10071    206.0     53.8      177.0       46.2  \n",
      "10072    199.0     50.4      196.0       49.6  \n",
      "10073    209.0     49.8      211.0       50.2  \n",
      "10074    169.0     44.2      213.0       55.8  \n",
      "\n",
      "[10075 rows x 38 columns], 'graduation':         Demographic     DBN                            School Name    Cohort  \\\n",
      "0      Total Cohort  01M292  HENRY STREET SCHOOL FOR INTERNATIONAL      2003   \n",
      "1      Total Cohort  01M292  HENRY STREET SCHOOL FOR INTERNATIONAL      2004   \n",
      "2      Total Cohort  01M292  HENRY STREET SCHOOL FOR INTERNATIONAL      2005   \n",
      "3      Total Cohort  01M292  HENRY STREET SCHOOL FOR INTERNATIONAL      2006   \n",
      "4      Total Cohort  01M292  HENRY STREET SCHOOL FOR INTERNATIONAL  2006 Aug   \n",
      "...             ...     ...                                    ...       ...   \n",
      "25091          Male  32K564         BUSHWICK COMMUNITY HIGH SCHOOL      2003   \n",
      "25092          Male  32K564         BUSHWICK COMMUNITY HIGH SCHOOL      2004   \n",
      "25093          Male  32K564         BUSHWICK COMMUNITY HIGH SCHOOL      2005   \n",
      "25094          Male  32K564         BUSHWICK COMMUNITY HIGH SCHOOL      2006   \n",
      "25095          Male  32K564         BUSHWICK COMMUNITY HIGH SCHOOL  2006 Aug   \n",
      "\n",
      "      Total Cohort Total Grads - n  Total Grads - % of cohort  \\\n",
      "0                5               s                        NaN   \n",
      "1               55              37                       67.3   \n",
      "2               64              43                       67.2   \n",
      "3               78              43                       55.1   \n",
      "4               78              44                       56.4   \n",
      "...            ...             ...                        ...   \n",
      "25091           65               1                        1.5   \n",
      "25092           64               2                        3.1   \n",
      "25093           79               3                        3.8   \n",
      "25094           57               4                        7.0   \n",
      "25095           57               4                        7.0   \n",
      "\n",
      "      Total Regents - n  Total Regents - % of cohort  \\\n",
      "0                     s                          NaN   \n",
      "1                    17                         30.9   \n",
      "2                    27                         42.2   \n",
      "3                    36                         46.2   \n",
      "4                    37                         47.4   \n",
      "...                 ...                          ...   \n",
      "25091                 0                          0.0   \n",
      "25092                 0                          0.0   \n",
      "25093                 1                          1.3   \n",
      "25094                 2                          3.5   \n",
      "25095                 2                          3.5   \n",
      "\n",
      "       Total Regents - % of grads  ... Regents w/o Advanced - n  \\\n",
      "0                             NaN  ...                        s   \n",
      "1                            45.9  ...                       17   \n",
      "2                            62.8  ...                       27   \n",
      "3                            83.7  ...                       36   \n",
      "4                            84.1  ...                       37   \n",
      "...                           ...  ...                      ...   \n",
      "25091                         0.0  ...                        0   \n",
      "25092                         0.0  ...                        0   \n",
      "25093                        33.3  ...                        1   \n",
      "25094                        50.0  ...                        2   \n",
      "25095                        50.0  ...                        2   \n",
      "\n",
      "       Regents w/o Advanced - % of cohort  Regents w/o Advanced - % of grads  \\\n",
      "0                                     NaN                                NaN   \n",
      "1                                    30.9                               45.9   \n",
      "2                                    42.2                               62.8   \n",
      "3                                    46.2                               83.7   \n",
      "4                                    47.4                               84.1   \n",
      "...                                   ...                                ...   \n",
      "25091                                 0.0                                0.0   \n",
      "25092                                 0.0                                0.0   \n",
      "25093                                 1.3                               33.3   \n",
      "25094                                 3.5                               50.0   \n",
      "25095                                 3.5                               50.0   \n",
      "\n",
      "      Local - n  Local - % of cohort  Local - % of grads Still Enrolled - n  \\\n",
      "0             s                  NaN                 NaN                  s   \n",
      "1            20                 36.4                54.1                 15   \n",
      "2            16                 25.0                37.2                  9   \n",
      "3             7                  9.0                16.3                 16   \n",
      "4             7                  9.0                15.9                 15   \n",
      "...         ...                  ...                 ...                ...   \n",
      "25091         1                  1.5               100.0               44.0   \n",
      "25092         2                  3.1               100.0               38.0   \n",
      "25093         2                  2.5                66.7               46.0   \n",
      "25094         2                  3.5                50.0               34.0   \n",
      "25095         2                  3.5                50.0               34.0   \n",
      "\n",
      "       Still Enrolled - % of cohort  Dropped Out - n Dropped Out - % of cohort  \n",
      "0                               NaN                s                       NaN  \n",
      "1                              27.3                3                       5.5  \n",
      "2                              14.1                9                      14.1  \n",
      "3                              20.5               11                      14.1  \n",
      "4                              19.2               11                      14.1  \n",
      "...                             ...              ...                       ...  \n",
      "25091                          67.7             20.0                      30.8  \n",
      "25092                          59.4             22.0                      34.4  \n",
      "25093                          58.2             28.0                      35.4  \n",
      "25094                          59.6             17.0                      29.8  \n",
      "25095                          59.6             17.0                      29.8  \n",
      "\n",
      "[25096 rows x 23 columns], 'hs_directory':         dbn                                        school_name    borough  \\\n",
      "0    27Q260          Frederick Douglass Academy VI High School     Queens   \n",
      "1    21K559        Life Academy High School for Film and Music   Brooklyn   \n",
      "2    16K393     Frederick Douglass Academy IV Secondary School   Brooklyn   \n",
      "3    08X305                               Pablo Neruda Academy      Bronx   \n",
      "4    03M485  Fiorello H. LaGuardia High School of Music & A...  Manhattan   \n",
      "..      ...                                                ...        ...   \n",
      "430  02M300  Urban Assembly School of Design and Constructi...  Manhattan   \n",
      "431  09X412                      Bronx High School of Business      Bronx   \n",
      "432  32K549                 Bushwick School for Social Justice   Brooklyn   \n",
      "433  02M407              Institute for Collaborative Education  Manhattan   \n",
      "434  21K344      Rachel Carson High School for Coastal Studies   Brooklyn   \n",
      "\n",
      "    building_code  phone_number    fax_number  grade_span_min  grade_span_max  \\\n",
      "0            Q465  718-471-2154  718-471-2890             9.0              12   \n",
      "1            K400  718-333-7750  718-333-7775             9.0              12   \n",
      "2            K026  718-574-2820  718-574-2821             9.0              12   \n",
      "3            X450  718-824-1682  718-824-1663             9.0              12   \n",
      "4            M485  212-496-0700  212-724-5748             9.0              12   \n",
      "..            ...           ...           ...             ...             ...   \n",
      "430          M535  212-586-0981  212-586-1731             9.0              12   \n",
      "431          X410  718-410-4060  718-992-5760             9.0              12   \n",
      "432          K480  718-381-7100  718-418-0192             9.0              12   \n",
      "433          M475  212-475-7972  212-475-0459             6.0              12   \n",
      "434          K303  718-265-0329  718-372-2514             9.0              12   \n",
      "\n",
      "     expgrade_span_min  expgrade_span_max  ... priority08 priority09  \\\n",
      "0                  NaN                NaN  ...        NaN        NaN   \n",
      "1                  NaN                NaN  ...        NaN        NaN   \n",
      "2                  NaN                NaN  ...        NaN        NaN   \n",
      "3                  NaN                NaN  ...        NaN        NaN   \n",
      "4                  NaN                NaN  ...        NaN        NaN   \n",
      "..                 ...                ...  ...        ...        ...   \n",
      "430                NaN                NaN  ...        NaN        NaN   \n",
      "431                NaN                NaN  ...        NaN        NaN   \n",
      "432                NaN                NaN  ...        NaN        NaN   \n",
      "433                NaN                NaN  ...        NaN        NaN   \n",
      "434                NaN                NaN  ...        NaN        NaN   \n",
      "\n",
      "    priority10                                         Location 1  \\\n",
      "0          NaN  8 21 Bay 25 Street\\nFar Rockaway, NY 11691\\n(4...   \n",
      "1          NaN  2630 Benson Avenue\\nBrooklyn, NY 11214\\n(40.59...   \n",
      "2          NaN  1014 Lafayette Avenue\\nBrooklyn, NY 11221\\n(40...   \n",
      "3          NaN  1980 Lafayette Avenue\\nBronx, NY 10473\\n(40.82...   \n",
      "4          NaN  100 Amsterdam Avenue\\nNew York, NY 10023\\n(40....   \n",
      "..         ...                                                ...   \n",
      "430        NaN  525 West 50Th Street\\nNew York, NY 10019\\n(40....   \n",
      "431        NaN  240 East 172 Street\\nBronx, NY 10457\\n(40.8403...   \n",
      "432        NaN  400 Irving Avenue\\nBrooklyn, NY 11237\\n(40.696...   \n",
      "433        NaN  345 East 15Th Street\\nNew York, NY 10003\\n(40....   \n",
      "434        NaN  521 West Avenue\\nBrooklyn, NY 11224\\n(40.58211...   \n",
      "\n",
      "    Community Board Council District Census Tract        BIN            BBL  \\\n",
      "0              14.0             31.0      100,802  4,300,730  4,157,360,001   \n",
      "1              13.0             47.0          306  3,186,454  3,068,830,001   \n",
      "2               3.0             36.0          291  3,393,805  3,016,160,001   \n",
      "3               9.0             18.0           16  2,022,205  2,036,040,039   \n",
      "4               7.0              6.0          151  1,030,341  1,011,560,030   \n",
      "..              ...              ...          ...        ...            ...   \n",
      "430             4.0              3.0          135  1,083,802  1,010,790,029   \n",
      "431             4.0             16.0          225  2,007,806  2,028,170,002   \n",
      "432             4.0             37.0          435  3,076,908  3,033,650,098   \n",
      "433             6.0              2.0           48  1,020,419  1,009,220,008   \n",
      "434            13.0             47.0          354  3,196,292  3,072,500,025   \n",
      "\n",
      "                                                   NTA  \n",
      "0    Far Rockaway-Bayswater                        ...  \n",
      "1    Gravesend                                     ...  \n",
      "2    Stuyvesant Heights                            ...  \n",
      "3    Soundview-Castle Hill-Clason Point-Harding Par...  \n",
      "4    Lincoln Square                                ...  \n",
      "..                                                 ...  \n",
      "430  Clinton                                       ...  \n",
      "431  East Concourse-Concourse Village              ...  \n",
      "432  Bushwick North                                ...  \n",
      "433  Gramercy                                      ...  \n",
      "434  West Brighton                                 ...  \n",
      "\n",
      "[435 rows x 64 columns], 'sat_results':         DBN                                    SCHOOL NAME  \\\n",
      "0    01M292  HENRY STREET SCHOOL FOR INTERNATIONAL STUDIES   \n",
      "1    01M448            UNIVERSITY NEIGHBORHOOD HIGH SCHOOL   \n",
      "2    01M450                     EAST SIDE COMMUNITY SCHOOL   \n",
      "3    01M458                      FORSYTH SATELLITE ACADEMY   \n",
      "4    01M509                        MARTA VALLE HIGH SCHOOL   \n",
      "..      ...                                            ...   \n",
      "473  75X012               P.S. X012 LEWIS AND CLARK SCHOOL   \n",
      "474  75X754        J. M. RAPPORT SCHOOL CAREER DEVELOPMENT   \n",
      "475  79M645     SCHOOL FOR COOPERATIVE TECHNICAL EDUCATION   \n",
      "476  79Q950                            GED PLUS s CITYWIDE   \n",
      "477  79X490                                PHOENIX ACADEMY   \n",
      "\n",
      "    Num of SAT Test Takers SAT Critical Reading Avg. Score  \\\n",
      "0                       29                             355   \n",
      "1                       91                             383   \n",
      "2                       70                             377   \n",
      "3                        7                             414   \n",
      "4                       44                             390   \n",
      "..                     ...                             ...   \n",
      "473                      s                               s   \n",
      "474                      s                               s   \n",
      "475                      s                               s   \n",
      "476                      8                             496   \n",
      "477                      9                             367   \n",
      "\n",
      "    SAT Math Avg. Score SAT Writing Avg. Score  \n",
      "0                   404                    363  \n",
      "1                   423                    366  \n",
      "2                   402                    370  \n",
      "3                   401                    359  \n",
      "4                   433                    384  \n",
      "..                  ...                    ...  \n",
      "473                   s                      s  \n",
      "474                   s                      s  \n",
      "475                   s                      s  \n",
      "476                 400                    426  \n",
      "477                 370                    360  \n",
      "\n",
      "[478 rows x 6 columns]}\n",
      "<class 'dict_values'>\n"
     ]
    }
   ],
   "source": [
    "print(data)\n",
    "print(type(data.values()))"
   ]
  },
  {
   "cell_type": "code",
   "execution_count": 3,
   "metadata": {},
   "outputs": [],
   "source": [
    "all_survey = pd.read_csv(\"C:\\\\Users\\\\ngass\\\\Downloads\\\\survey_all.txt\", delimiter=\"\\t\", encoding='windows-1252')\n",
    "d75_survey = pd.read_csv(\"C:\\\\Users\\\\ngass\\\\Downloads\\\\survey_d75.txt\", delimiter=\"\\t\", encoding='windows-1252')\n",
    "survey = pd.concat([all_survey, d75_survey], axis=0)\n",
    "\n",
    "survey[\"DBN\"] = survey[\"dbn\"]\n",
    "\n",
    "survey_fields = [\n",
    "    \"DBN\", \n",
    "    \"rr_s\", \n",
    "    \"rr_t\", \n",
    "    \"rr_p\", \n",
    "    \"N_s\", \n",
    "    \"N_t\", \n",
    "    \"N_p\", \n",
    "    \"saf_p_11\", \n",
    "    \"com_p_11\", \n",
    "    \"eng_p_11\", \n",
    "    \"aca_p_11\", \n",
    "    \"saf_t_11\", \n",
    "    \"com_t_11\", \n",
    "    \"eng_t_11\", \n",
    "    \"aca_t_11\", \n",
    "    \"saf_s_11\", \n",
    "    \"com_s_11\", \n",
    "    \"eng_s_11\", \n",
    "    \"aca_s_11\", \n",
    "    \"saf_tot_11\", \n",
    "    \"com_tot_11\", \n",
    "    \"eng_tot_11\", \n",
    "    \"aca_tot_11\",\n",
    "]\n",
    "survey = survey.loc[:,survey_fields]\n",
    "data[\"survey\"] = survey"
   ]
  },
  {
   "cell_type": "code",
   "execution_count": 4,
   "metadata": {},
   "outputs": [
    {
     "name": "stdout",
     "output_type": "stream",
     "text": [
      "dict_keys(['ap_2010', 'class_size', 'demographics', 'graduation', 'hs_directory', 'sat_results', 'survey'])\n"
     ]
    }
   ],
   "source": [
    "print(data.keys())"
   ]
  },
  {
   "cell_type": "code",
   "execution_count": 5,
   "metadata": {},
   "outputs": [],
   "source": [
    "data[\"hs_directory\"][\"DBN\"] = data[\"hs_directory\"][\"dbn\"]\n",
    "\n",
    "def pad_csd(num):\n",
    "    string_representation = str(num)\n",
    "    if len(string_representation) > 1:\n",
    "        return string_representation\n",
    "    else:\n",
    "        return \"0\" + string_representation\n",
    "    \n",
    "data[\"class_size\"][\"padded_csd\"] = data[\"class_size\"][\"CSD\"].apply(pad_csd)\n",
    "data[\"class_size\"][\"DBN\"] = data[\"class_size\"][\"padded_csd\"] + data[\"class_size\"][\"SCHOOL CODE\"]"
   ]
  },
  {
   "cell_type": "code",
   "execution_count": 6,
   "metadata": {},
   "outputs": [
    {
     "name": "stdout",
     "output_type": "stream",
     "text": [
      "Index(['CSD', 'BOROUGH', 'SCHOOL CODE', 'SCHOOL NAME', 'GRADE ',\n",
      "       'PROGRAM TYPE', 'CORE SUBJECT (MS CORE and 9-12 ONLY)',\n",
      "       'CORE COURSE (MS CORE and 9-12 ONLY)', 'SERVICE CATEGORY(K-9* ONLY)',\n",
      "       'NUMBER OF STUDENTS / SEATS FILLED', 'NUMBER OF SECTIONS',\n",
      "       'AVERAGE CLASS SIZE', 'SIZE OF SMALLEST CLASS', 'SIZE OF LARGEST CLASS',\n",
      "       'DATA SOURCE', 'SCHOOLWIDE PUPIL-TEACHER RATIO', 'padded_csd', 'DBN'],\n",
      "      dtype='object')\n",
      "Index(['DBN', 'SCHOOL NAME', 'Num of SAT Test Takers',\n",
      "       'SAT Critical Reading Avg. Score', 'SAT Math Avg. Score',\n",
      "       'SAT Writing Avg. Score'],\n",
      "      dtype='object')\n",
      "Index(['dbn', 'school_name', 'borough', 'building_code', 'phone_number',\n",
      "       'fax_number', 'grade_span_min', 'grade_span_max', 'expgrade_span_min',\n",
      "       'expgrade_span_max', 'bus', 'subway', 'primary_address_line_1', 'city',\n",
      "       'state_code', 'postcode', 'website', 'total_students', 'campus_name',\n",
      "       'school_type', 'overview_paragraph', 'program_highlights',\n",
      "       'language_classes', 'advancedplacement_courses', 'online_ap_courses',\n",
      "       'online_language_courses', 'extracurricular_activities',\n",
      "       'psal_sports_boys', 'psal_sports_girls', 'psal_sports_coed',\n",
      "       'school_sports', 'partner_cbo', 'partner_hospital', 'partner_highered',\n",
      "       'partner_cultural', 'partner_nonprofit', 'partner_corporate',\n",
      "       'partner_financial', 'partner_other', 'addtl_info1', 'addtl_info2',\n",
      "       'start_time', 'end_time', 'se_services', 'ell_programs',\n",
      "       'school_accessibility_description', 'number_programs', 'priority01',\n",
      "       'priority02', 'priority03', 'priority04', 'priority05', 'priority06',\n",
      "       'priority07', 'priority08', 'priority09', 'priority10', 'Location 1',\n",
      "       'Community Board', 'Council District', 'Census Tract', 'BIN', 'BBL',\n",
      "       'NTA', 'DBN'],\n",
      "      dtype='object')\n"
     ]
    }
   ],
   "source": [
    "print(data[\"class_size\"].columns)\n",
    "print(data[\"sat_results\"].columns)\n",
    "print(data[\"hs_directory\"].columns)"
   ]
  },
  {
   "cell_type": "code",
   "execution_count": 7,
   "metadata": {},
   "outputs": [],
   "source": [
    "cols = ['SAT Math Avg. Score', 'SAT Critical Reading Avg. Score', 'SAT Writing Avg. Score']\n",
    "for c in cols:\n",
    "    data[\"sat_results\"][c] = pd.to_numeric(data[\"sat_results\"][c], errors=\"coerce\")\n",
    "\n",
    "data['sat_results']['sat_score'] = data['sat_results'][cols[0]] + data['sat_results'][cols[1]] + data['sat_results'][cols[2]]\n",
    "\n",
    "def find_lat(loc):\n",
    "    coords = re.findall(\"\\(.+, .+\\)\", loc)\n",
    "    lat = coords[0].split(\",\")[0].replace(\"(\", \"\")\n",
    "    return lat\n",
    "\n",
    "def find_lon(loc):\n",
    "    coords = re.findall(\"\\(.+, .+\\)\", loc)\n",
    "    lon = coords[0].split(\",\")[1].replace(\")\", \"\").strip()\n",
    "    return lon\n",
    "\n",
    "data[\"hs_directory\"][\"lat\"] = data[\"hs_directory\"][\"Location 1\"].apply(find_lat)\n",
    "data[\"hs_directory\"][\"lon\"] = data[\"hs_directory\"][\"Location 1\"].apply(find_lon)\n",
    "\n",
    "data[\"hs_directory\"][\"lat\"] = pd.to_numeric(data[\"hs_directory\"][\"lat\"], errors=\"coerce\")\n",
    "data[\"hs_directory\"][\"lon\"] = pd.to_numeric(data[\"hs_directory\"][\"lon\"], errors=\"coerce\")"
   ]
  },
  {
   "cell_type": "code",
   "execution_count": 8,
   "metadata": {},
   "outputs": [
    {
     "name": "stdout",
     "output_type": "stream",
     "text": [
      "Index(['DBN', 'SCHOOL NAME', 'Num of SAT Test Takers',\n",
      "       'SAT Critical Reading Avg. Score', 'SAT Math Avg. Score',\n",
      "       'SAT Writing Avg. Score', 'sat_score'],\n",
      "      dtype='object')\n",
      "Index(['dbn', 'school_name', 'borough', 'building_code', 'phone_number',\n",
      "       'fax_number', 'grade_span_min', 'grade_span_max', 'expgrade_span_min',\n",
      "       'expgrade_span_max', 'bus', 'subway', 'primary_address_line_1', 'city',\n",
      "       'state_code', 'postcode', 'website', 'total_students', 'campus_name',\n",
      "       'school_type', 'overview_paragraph', 'program_highlights',\n",
      "       'language_classes', 'advancedplacement_courses', 'online_ap_courses',\n",
      "       'online_language_courses', 'extracurricular_activities',\n",
      "       'psal_sports_boys', 'psal_sports_girls', 'psal_sports_coed',\n",
      "       'school_sports', 'partner_cbo', 'partner_hospital', 'partner_highered',\n",
      "       'partner_cultural', 'partner_nonprofit', 'partner_corporate',\n",
      "       'partner_financial', 'partner_other', 'addtl_info1', 'addtl_info2',\n",
      "       'start_time', 'end_time', 'se_services', 'ell_programs',\n",
      "       'school_accessibility_description', 'number_programs', 'priority01',\n",
      "       'priority02', 'priority03', 'priority04', 'priority05', 'priority06',\n",
      "       'priority07', 'priority08', 'priority09', 'priority10', 'Location 1',\n",
      "       'Community Board', 'Council District', 'Census Tract', 'BIN', 'BBL',\n",
      "       'NTA', 'DBN', 'lat', 'lon'],\n",
      "      dtype='object')\n"
     ]
    }
   ],
   "source": [
    "print(data[\"sat_results\"].columns)\n",
    "print(data[\"hs_directory\"].columns)"
   ]
  },
  {
   "cell_type": "code",
   "execution_count": 9,
   "metadata": {},
   "outputs": [],
   "source": [
    "class_size = data[\"class_size\"]\n",
    "class_size = class_size[class_size[\"GRADE \"] == \"09-12\"]\n",
    "class_size = class_size[class_size[\"PROGRAM TYPE\"] == \"GEN ED\"]\n",
    "\n",
    "class_size = class_size.groupby(\"DBN\").agg(np.mean)\n",
    "class_size.reset_index(inplace=True)\n",
    "data[\"class_size\"] = class_size\n",
    "\n",
    "data[\"demographics\"] = data[\"demographics\"][data[\"demographics\"][\"schoolyear\"] == 20112012]\n",
    "\n",
    "data[\"graduation\"] = data[\"graduation\"][data[\"graduation\"][\"Cohort\"] == \"2006\"]\n",
    "data[\"graduation\"] = data[\"graduation\"][data[\"graduation\"][\"Demographic\"] == \"Total Cohort\"]"
   ]
  },
  {
   "cell_type": "code",
   "execution_count": 10,
   "metadata": {},
   "outputs": [],
   "source": [
    "cols = ['AP Test Takers ', 'Total Exams Taken', 'Number of Exams with scores 3 4 or 5']\n",
    "\n",
    "for col in cols:\n",
    "    data[\"ap_2010\"][col] = pd.to_numeric(data[\"ap_2010\"][col], errors=\"coerce\")"
   ]
  },
  {
   "cell_type": "code",
   "execution_count": 11,
   "metadata": {},
   "outputs": [],
   "source": [
    "combined = data[\"sat_results\"]\n",
    "\n",
    "combined = combined.merge(data[\"ap_2010\"], on=\"DBN\", how=\"left\")\n",
    "combined = combined.merge(data[\"graduation\"], on=\"DBN\", how=\"left\")\n",
    "\n",
    "to_merge = [\"class_size\", \"demographics\", \"survey\", \"hs_directory\"]\n",
    "\n",
    "for m in to_merge:\n",
    "    combined = combined.merge(data[m], on=\"DBN\", how=\"inner\")\n",
    "\n",
    "combined = combined.fillna(combined.mean())\n",
    "combined = combined.fillna(0)"
   ]
  },
  {
   "cell_type": "code",
   "execution_count": 12,
   "metadata": {},
   "outputs": [
    {
     "name": "stdout",
     "output_type": "stream",
     "text": [
      "DBN\n",
      "SCHOOL NAME\n",
      "Num of SAT Test Takers\n",
      "SAT Critical Reading Avg. Score\n",
      "SAT Math Avg. Score\n",
      "SAT Writing Avg. Score\n",
      "sat_score\n",
      "SchoolName\n",
      "AP Test Takers \n",
      "Total Exams Taken\n",
      "Number of Exams with scores 3 4 or 5\n",
      "Demographic\n",
      "School Name\n",
      "Cohort\n",
      "Total Cohort\n",
      "Total Grads - n\n",
      "Total Grads - % of cohort\n",
      "Total Regents - n\n",
      "Total Regents - % of cohort\n",
      "Total Regents - % of grads\n",
      "Advanced Regents - n\n",
      "Advanced Regents - % of cohort\n",
      "Advanced Regents - % of grads\n",
      "Regents w/o Advanced - n\n",
      "Regents w/o Advanced - % of cohort\n",
      "Regents w/o Advanced - % of grads\n",
      "Local - n\n",
      "Local - % of cohort\n",
      "Local - % of grads\n",
      "Still Enrolled - n\n",
      "Still Enrolled - % of cohort\n",
      "Dropped Out - n\n",
      "Dropped Out - % of cohort\n",
      "CSD\n",
      "NUMBER OF SECTIONS\n",
      "AVERAGE CLASS SIZE\n",
      "SIZE OF SMALLEST CLASS\n",
      "SIZE OF LARGEST CLASS\n",
      "SCHOOLWIDE PUPIL-TEACHER RATIO\n",
      "Name\n",
      "schoolyear\n",
      "fl_percent\n",
      "frl_percent\n",
      "total_enrollment\n",
      "prek\n",
      "k\n",
      "grade1\n",
      "grade2\n",
      "grade3\n",
      "grade4\n",
      "grade5\n",
      "grade6\n",
      "grade7\n",
      "grade8\n",
      "grade9\n",
      "grade10\n",
      "grade11\n",
      "grade12\n",
      "ell_num\n",
      "ell_percent\n",
      "sped_num\n",
      "sped_percent\n",
      "ctt_num\n",
      "selfcontained_num\n",
      "asian_num\n",
      "asian_per\n",
      "black_num\n",
      "black_per\n",
      "hispanic_num\n",
      "hispanic_per\n",
      "white_num\n",
      "white_per\n",
      "male_num\n",
      "male_per\n",
      "female_num\n",
      "female_per\n",
      "rr_s\n",
      "rr_t\n",
      "rr_p\n",
      "N_s\n",
      "N_t\n",
      "N_p\n",
      "saf_p_11\n",
      "com_p_11\n",
      "eng_p_11\n",
      "aca_p_11\n",
      "saf_t_11\n",
      "com_t_11\n",
      "eng_t_11\n",
      "aca_t_11\n",
      "saf_s_11\n",
      "com_s_11\n",
      "eng_s_11\n",
      "aca_s_11\n",
      "saf_tot_11\n",
      "com_tot_11\n",
      "eng_tot_11\n",
      "aca_tot_11\n",
      "dbn\n",
      "school_name\n",
      "borough\n",
      "building_code\n",
      "phone_number\n",
      "fax_number\n",
      "grade_span_min\n",
      "grade_span_max\n",
      "expgrade_span_min\n",
      "expgrade_span_max\n",
      "bus\n",
      "subway\n",
      "primary_address_line_1\n",
      "city\n",
      "state_code\n",
      "postcode\n",
      "website\n",
      "total_students\n",
      "campus_name\n",
      "school_type\n",
      "overview_paragraph\n",
      "program_highlights\n",
      "language_classes\n",
      "advancedplacement_courses\n",
      "online_ap_courses\n",
      "online_language_courses\n",
      "extracurricular_activities\n",
      "psal_sports_boys\n",
      "psal_sports_girls\n",
      "psal_sports_coed\n",
      "school_sports\n",
      "partner_cbo\n",
      "partner_hospital\n",
      "partner_highered\n",
      "partner_cultural\n",
      "partner_nonprofit\n",
      "partner_corporate\n",
      "partner_financial\n",
      "partner_other\n",
      "addtl_info1\n",
      "addtl_info2\n",
      "start_time\n",
      "end_time\n",
      "se_services\n",
      "ell_programs\n",
      "school_accessibility_description\n",
      "number_programs\n",
      "priority01\n",
      "priority02\n",
      "priority03\n",
      "priority04\n",
      "priority05\n",
      "priority06\n",
      "priority07\n",
      "priority08\n",
      "priority09\n",
      "priority10\n",
      "Location 1\n",
      "Community Board\n",
      "Council District\n",
      "Census Tract\n",
      "BIN\n",
      "BBL\n",
      "NTA\n",
      "lat\n",
      "lon\n"
     ]
    }
   ],
   "source": [
    "for c in combined.columns:\n",
    "   print(c)"
   ]
  },
  {
   "cell_type": "code",
   "execution_count": 13,
   "metadata": {},
   "outputs": [],
   "source": [
    "def get_first_two_chars(dbn):\n",
    "    return dbn[0:2]\n",
    "\n",
    "combined[\"school_dist\"] = combined[\"DBN\"].apply(get_first_two_chars)"
   ]
  },
  {
   "cell_type": "code",
   "execution_count": 14,
   "metadata": {},
   "outputs": [
    {
     "name": "stdout",
     "output_type": "stream",
     "text": [
      "SAT Critical Reading Avg. Score    0.986820\n",
      "SAT Math Avg. Score                0.972643\n",
      "SAT Writing Avg. Score             0.987771\n",
      "sat_score                          1.000000\n",
      "AP Test Takers                     0.412667\n",
      "                                     ...   \n",
      "priority10                              NaN\n",
      "Community Board                   -0.060919\n",
      "Council District                  -0.076151\n",
      "lat                               -0.121029\n",
      "lon                               -0.132222\n",
      "Name: sat_score, Length: 78, dtype: float64\n"
     ]
    }
   ],
   "source": [
    "correlations = combined.corr()\n",
    "correlations = correlations[\"sat_score\"]\n",
    "print(correlations)"
   ]
  },
  {
   "cell_type": "markdown",
   "metadata": {},
   "source": [
    "# Plotting survey correlations"
   ]
  },
  {
   "cell_type": "code",
   "execution_count": 15,
   "metadata": {},
   "outputs": [
    {
     "data": {
      "text/plain": [
       "<AxesSubplot:>"
      ]
     },
     "execution_count": 15,
     "metadata": {},
     "output_type": "execute_result"
    },
    {
     "data": {
      "image/png": "[encoded data removed]",
      "text/plain": [
       "<Figure size 432x288 with 1 Axes>"
      ]
     },
     "metadata": {
      "needs_background": "light"
     },
     "output_type": "display_data"
    }
   ],
   "source": [
    "# Remove DBN since it's a unique identifier, not a useful numerical value for correlation.\n",
    "survey_fields.remove(\"DBN\")\n",
    "combined.corr()[\"sat_score\"][survey_fields].plot.bar() "
   ]
  },
  {
   "cell_type": "code",
   "execution_count": 16,
   "metadata": {},
   "outputs": [
    {
     "data": {
      "text/plain": [
       "<AxesSubplot:xlabel='saf_s_11', ylabel='sat_score'>"
      ]
     },
     "execution_count": 16,
     "metadata": {},
     "output_type": "execute_result"
    },
    {
     "data": {
      "image/png": "[encoded data removed]",
      "text/plain": [
       "<Figure size 432x288 with 1 Axes>"
      ]
     },
     "metadata": {
      "needs_background": "light"
     },
     "output_type": "display_data"
    }
   ],
   "source": [
    "combined.plot.scatter(x=\"saf_s_11\", y=\"sat_score\")"
   ]
  },
  {
   "cell_type": "markdown",
   "metadata": {},
   "source": [
    "it seems to me there is some positiv correlation"
   ]
  },
  {
   "cell_type": "code",
   "execution_count": 17,
   "metadata": {},
   "outputs": [
    {
     "name": "stdout",
     "output_type": "stream",
     "text": [
      "0      Manhattan\n",
      "1      Manhattan\n",
      "2      Manhattan\n",
      "3      Manhattan\n",
      "4      Manhattan\n",
      "         ...    \n",
      "358     Brooklyn\n",
      "359     Brooklyn\n",
      "360     Brooklyn\n",
      "361     Brooklyn\n",
      "362     Brooklyn\n",
      "Name: borough, Length: 363, dtype: object\n"
     ]
    }
   ],
   "source": [
    "print(combined[\"borough\"])"
   ]
  },
  {
   "cell_type": "code",
   "execution_count": 18,
   "metadata": {},
   "outputs": [
    {
     "name": "stdout",
     "output_type": "stream",
     "text": [
      "borough\n",
      "Bronx            6.606577\n",
      "Brooklyn         6.370755\n",
      "Manhattan        6.831370\n",
      "Queens           6.721875\n",
      "Staten Island    6.530000\n",
      "Name: saf_s_11, dtype: float64\n"
     ]
    }
   ],
   "source": [
    "boros=combined.groupby(\"borough\").agg(np.mean)[\"saf_s_11\"]\n",
    "print(boros)"
   ]
  },
  {
   "cell_type": "markdown",
   "metadata": {},
   "source": [
    "Brooklyn hast the lowest safety score among students"
   ]
  },
  {
   "cell_type": "code",
   "execution_count": 19,
   "metadata": {},
   "outputs": [
    {
     "data": {
      "text/plain": [
       "<AxesSubplot:>"
      ]
     },
     "execution_count": 19,
     "metadata": {},
     "output_type": "execute_result"
    },
    {
     "data": {
      "image/png": "[encoded data removed]",
      "text/plain": [
       "<Figure size 432x288 with 1 Axes>"
      ]
     },
     "metadata": {
      "needs_background": "light"
     },
     "output_type": "display_data"
    }
   ],
   "source": [
    "cols=[\"white_per\", \"asian_per\", \"black_per\", \"hispanic_per\"]\n",
    "combined.corr()[\"sat_score\"][cols].plot.bar()"
   ]
  },
  {
   "cell_type": "markdown",
   "metadata": {},
   "source": [
    "shools with a higher percentage of white and aisan race have a high sat_score, whereas scholls with a higher percetange of black and hispanic have a lower sat_score"
   ]
  },
  {
   "cell_type": "code",
   "execution_count": 20,
   "metadata": {},
   "outputs": [
    {
     "data": {
      "text/plain": [
       "<AxesSubplot:xlabel='hispanic_per', ylabel='sat_score'>"
      ]
     },
     "execution_count": 20,
     "metadata": {},
     "output_type": "execute_result"
    },
    {
     "data": {
      "image/png": "[encoded data removed]",
      "text/plain": [
       "<Figure size 432x288 with 1 Axes>"
      ]
     },
     "metadata": {
      "needs_background": "light"
     },
     "output_type": "display_data"
    }
   ],
   "source": [
    "combined.plot.scatter(x=\"hispanic_per\", y=\"sat_score\")"
   ]
  },
  {
   "cell_type": "markdown",
   "metadata": {},
   "source": [
    "majority of schools with the higher percentage of hispanic has a lower sat_score"
   ]
  },
  {
   "cell_type": "code",
   "execution_count": 21,
   "metadata": {},
   "outputs": [],
   "source": [
    "hispanic_95=combined[combined[\"hispanic_per\"]>95]"
   ]
  },
  {
   "cell_type": "code",
   "execution_count": 22,
   "metadata": {},
   "outputs": [
    {
     "name": "stdout",
     "output_type": "stream",
     "text": [
      "44                         MANHATTAN BRIDGES HIGH SCHOOL\n",
      "82      WASHINGTON HEIGHTS EXPEDITIONARY LEARNING SCHOOL\n",
      "89     GREGORIO LUPERON HIGH SCHOOL FOR SCIENCE AND M...\n",
      "125                  ACADEMY FOR LANGUAGE AND TECHNOLOGY\n",
      "141                INTERNATIONAL SCHOOL FOR LIBERAL ARTS\n",
      "176     PAN AMERICAN INTERNATIONAL HIGH SCHOOL AT MONROE\n",
      "253                            MULTICULTURAL HIGH SCHOOL\n",
      "286               PAN AMERICAN INTERNATIONAL HIGH SCHOOL\n",
      "Name: SCHOOL NAME, dtype: object\n"
     ]
    }
   ],
   "source": [
    "print(hispanic_95[\"SCHOOL NAME\"])"
   ]
  },
  {
   "cell_type": "code",
   "execution_count": 23,
   "metadata": {},
   "outputs": [
    {
     "name": "stdout",
     "output_type": "stream",
     "text": [
      "44                         MANHATTAN BRIDGES HIGH SCHOOL\n",
      "82      WASHINGTON HEIGHTS EXPEDITIONARY LEARNING SCHOOL\n",
      "89     GREGORIO LUPERON HIGH SCHOOL FOR SCIENCE AND M...\n",
      "125                  ACADEMY FOR LANGUAGE AND TECHNOLOGY\n",
      "141                INTERNATIONAL SCHOOL FOR LIBERAL ARTS\n",
      "176     PAN AMERICAN INTERNATIONAL HIGH SCHOOL AT MONROE\n",
      "253                            MULTICULTURAL HIGH SCHOOL\n",
      "286               PAN AMERICAN INTERNATIONAL HIGH SCHOOL\n",
      "Name: SCHOOL NAME, dtype: object\n"
     ]
    }
   ],
   "source": [
    "print(combined[combined[\"hispanic_per\"]>95][\"SCHOOL NAME\"])"
   ]
  },
  {
   "cell_type": "code",
   "execution_count": 24,
   "metadata": {},
   "outputs": [
    {
     "name": "stdout",
     "output_type": "stream",
     "text": [
      "37                                STUYVESANT HIGH SCHOOL\n",
      "151                         BRONX HIGH SCHOOL OF SCIENCE\n",
      "187                       BROOKLYN TECHNICAL HIGH SCHOOL\n",
      "327    QUEENS HIGH SCHOOL FOR THE SCIENCES AT YORK CO...\n",
      "356                  STATEN ISLAND TECHNICAL HIGH SCHOOL\n",
      "Name: SCHOOL NAME, dtype: object\n"
     ]
    }
   ],
   "source": [
    "print(combined[(combined[\"hispanic_per\"]<10) & (combined[\"sat_score\"]> 1800)][\"SCHOOL NAME\"])"
   ]
  },
  {
   "cell_type": "code",
   "execution_count": 25,
   "metadata": {},
   "outputs": [
    {
     "data": {
      "text/plain": [
       "<AxesSubplot:>"
      ]
     },
     "execution_count": 25,
     "metadata": {},
     "output_type": "execute_result"
    },
    {
     "data": {
      "image/png": "[encoded data removed]",
      "text/plain": [
       "<Figure size 432x288 with 1 Axes>"
      ]
     },
     "metadata": {
      "needs_background": "light"
     },
     "output_type": "display_data"
    }
   ],
   "source": [
    "male_female=[\"male_per\", \"female_per\"]\n",
    "combined.corr()[\"sat_score\"][male_female].plot.bar()"
   ]
  },
  {
   "cell_type": "code",
   "execution_count": 26,
   "metadata": {},
   "outputs": [
    {
     "data": {
      "text/plain": [
       "<AxesSubplot:xlabel='female_per', ylabel='sat_score'>"
      ]
     },
     "execution_count": 26,
     "metadata": {},
     "output_type": "execute_result"
    },
    {
     "data": {
      "image/png": "[encoded data removed]",
      "text/plain": [
       "<Figure size 432x288 with 1 Axes>"
      ]
     },
     "metadata": {
      "needs_background": "light"
     },
     "output_type": "display_data"
    }
   ],
   "source": [
    "combined.plot.scatter(\"female_per\",\"sat_score\")"
   ]
  },
  {
   "cell_type": "markdown",
   "metadata": {},
   "source": [
    "there is some positive correlation between female_per between 30 and 80 percentage female percentage but the higher the weaker this correlation"
   ]
  },
  {
   "cell_type": "code",
   "execution_count": 27,
   "metadata": {},
   "outputs": [
    {
     "name": "stdout",
     "output_type": "stream",
     "text": [
      "5                         BARD HIGH SCHOOL EARLY COLLEGE\n",
      "26                         ELEANOR ROOSEVELT HIGH SCHOOL\n",
      "60                                    BEACON HIGH SCHOOL\n",
      "61     FIORELLO H. LAGUARDIA HIGH SCHOOL OF MUSIC & A...\n",
      "302                          TOWNSEND HARRIS HIGH SCHOOL\n",
      "Name: SCHOOL NAME, dtype: object\n"
     ]
    }
   ],
   "source": [
    "print(combined[(combined[\"female_per\"]>60) & (combined[\"sat_score\"]>1700)][\"SCHOOL NAME\"])"
   ]
  },
  {
   "cell_type": "code",
   "execution_count": 29,
   "metadata": {},
   "outputs": [],
   "source": [
    "combined[\"ap_per\"]=combined[\"AP Test Takers \"]/combined[\"total_enrollment\"]"
   ]
  },
  {
   "cell_type": "code",
   "execution_count": 30,
   "metadata": {},
   "outputs": [
    {
     "name": "stdout",
     "output_type": "stream",
     "text": [
      "0      0.254549\n",
      "1      0.098985\n",
      "2      0.031773\n",
      "3      0.292696\n",
      "4      0.158091\n",
      "         ...   \n",
      "358    0.077558\n",
      "359    0.247510\n",
      "360    0.190955\n",
      "361    0.026616\n",
      "362    0.073593\n",
      "Name: ap_per, Length: 363, dtype: float64\n"
     ]
    }
   ],
   "source": [
    "print(combined[\"ap_per\"])"
   ]
  },
  {
   "cell_type": "code",
   "execution_count": 31,
   "metadata": {},
   "outputs": [
    {
     "data": {
      "text/plain": [
       "<AxesSubplot:xlabel='ap_per', ylabel='sat_score'>"
      ]
     },
     "execution_count": 31,
     "metadata": {},
     "output_type": "execute_result"
    },
    {
     "data": {
      "image/png": "[encoded data removed]",
      "text/plain": [
       "<Figure size 432x288 with 1 Axes>"
      ]
     },
     "metadata": {
      "needs_background": "light"
     },
     "output_type": "display_data"
    }
   ],
   "source": [
    "combined.plot.scatter(x=\"ap_per\", y=\"sat_score\")"
   ]
  },
  {
   "cell_type": "code",
   "execution_count": 32,
   "metadata": {},
   "outputs": [
    {
     "data": {
      "text/plain": [
       "Index(['DBN', 'SCHOOL NAME', 'Num of SAT Test Takers',\n",
       "       'SAT Critical Reading Avg. Score', 'SAT Math Avg. Score',\n",
       "       'SAT Writing Avg. Score', 'sat_score', 'SchoolName', 'AP Test Takers ',\n",
       "       'Total Exams Taken',\n",
       "       ...\n",
       "       'Community Board', 'Council District', 'Census Tract', 'BIN', 'BBL',\n",
       "       'NTA', 'lat', 'lon', 'school_dist', 'ap_per'],\n",
       "      dtype='object', length=166)"
      ]
     },
     "execution_count": 32,
     "metadata": {},
     "output_type": "execute_result"
    }
   ],
   "source": [
    "combined.columns"
   ]
  },
  {
   "cell_type": "code",
   "execution_count": 33,
   "metadata": {},
   "outputs": [
    {
     "data": {
      "text/plain": [
       "(363, 166)"
      ]
     },
     "execution_count": 33,
     "metadata": {},
     "output_type": "execute_result"
    }
   ],
   "source": [
    "combined.shape"
   ]
  },
  {
   "cell_type": "code",
   "execution_count": 34,
   "metadata": {},
   "outputs": [
    {
     "name": "stdout",
     "output_type": "stream",
     "text": [
      "DBN\n",
      "SCHOOL NAME\n",
      "Num of SAT Test Takers\n",
      "SAT Critical Reading Avg. Score\n",
      "SAT Math Avg. Score\n",
      "SAT Writing Avg. Score\n",
      "sat_score\n",
      "SchoolName\n",
      "AP Test Takers \n",
      "Total Exams Taken\n",
      "Number of Exams with scores 3 4 or 5\n",
      "Demographic\n",
      "School Name\n",
      "Cohort\n",
      "Total Cohort\n",
      "Total Grads - n\n",
      "Total Grads - % of cohort\n",
      "Total Regents - n\n",
      "Total Regents - % of cohort\n",
      "Total Regents - % of grads\n",
      "Advanced Regents - n\n",
      "Advanced Regents - % of cohort\n",
      "Advanced Regents - % of grads\n",
      "Regents w/o Advanced - n\n",
      "Regents w/o Advanced - % of cohort\n",
      "Regents w/o Advanced - % of grads\n",
      "Local - n\n",
      "Local - % of cohort\n",
      "Local - % of grads\n",
      "Still Enrolled - n\n",
      "Still Enrolled - % of cohort\n",
      "Dropped Out - n\n",
      "Dropped Out - % of cohort\n",
      "CSD\n",
      "NUMBER OF SECTIONS\n",
      "AVERAGE CLASS SIZE\n",
      "SIZE OF SMALLEST CLASS\n",
      "SIZE OF LARGEST CLASS\n",
      "SCHOOLWIDE PUPIL-TEACHER RATIO\n",
      "Name\n",
      "schoolyear\n",
      "fl_percent\n",
      "frl_percent\n",
      "total_enrollment\n",
      "prek\n",
      "k\n",
      "grade1\n",
      "grade2\n",
      "grade3\n",
      "grade4\n",
      "grade5\n",
      "grade6\n",
      "grade7\n",
      "grade8\n",
      "grade9\n",
      "grade10\n",
      "grade11\n",
      "grade12\n",
      "ell_num\n",
      "ell_percent\n",
      "sped_num\n",
      "sped_percent\n",
      "ctt_num\n",
      "selfcontained_num\n",
      "asian_num\n",
      "asian_per\n",
      "black_num\n",
      "black_per\n",
      "hispanic_num\n",
      "hispanic_per\n",
      "white_num\n",
      "white_per\n",
      "male_num\n",
      "male_per\n",
      "female_num\n",
      "female_per\n",
      "rr_s\n",
      "rr_t\n",
      "rr_p\n",
      "N_s\n",
      "N_t\n",
      "N_p\n",
      "saf_p_11\n",
      "com_p_11\n",
      "eng_p_11\n",
      "aca_p_11\n",
      "saf_t_11\n",
      "com_t_11\n",
      "eng_t_11\n",
      "aca_t_11\n",
      "saf_s_11\n",
      "com_s_11\n",
      "eng_s_11\n",
      "aca_s_11\n",
      "saf_tot_11\n",
      "com_tot_11\n",
      "eng_tot_11\n",
      "aca_tot_11\n",
      "dbn\n",
      "school_name\n",
      "borough\n",
      "building_code\n",
      "phone_number\n",
      "fax_number\n",
      "grade_span_min\n",
      "grade_span_max\n",
      "expgrade_span_min\n",
      "expgrade_span_max\n",
      "bus\n",
      "subway\n",
      "primary_address_line_1\n",
      "city\n",
      "state_code\n",
      "postcode\n",
      "website\n",
      "total_students\n",
      "campus_name\n",
      "school_type\n",
      "overview_paragraph\n",
      "program_highlights\n",
      "language_classes\n",
      "advancedplacement_courses\n",
      "online_ap_courses\n",
      "online_language_courses\n",
      "extracurricular_activities\n",
      "psal_sports_boys\n",
      "psal_sports_girls\n",
      "psal_sports_coed\n",
      "school_sports\n",
      "partner_cbo\n",
      "partner_hospital\n",
      "partner_highered\n",
      "partner_cultural\n",
      "partner_nonprofit\n",
      "partner_corporate\n",
      "partner_financial\n",
      "partner_other\n",
      "addtl_info1\n",
      "addtl_info2\n",
      "start_time\n",
      "end_time\n",
      "se_services\n",
      "ell_programs\n",
      "school_accessibility_description\n",
      "number_programs\n",
      "priority01\n",
      "priority02\n",
      "priority03\n",
      "priority04\n",
      "priority05\n",
      "priority06\n",
      "priority07\n",
      "priority08\n",
      "priority09\n",
      "priority10\n",
      "Location 1\n",
      "Community Board\n",
      "Council District\n",
      "Census Tract\n",
      "BIN\n",
      "BBL\n",
      "NTA\n",
      "lat\n",
      "lon\n",
      "school_dist\n",
      "ap_per\n"
     ]
    }
   ],
   "source": [
    "for c in combined.columns:\n",
    "    print(c)"
   ]
  },
  {
   "cell_type": "code",
   "execution_count": 35,
   "metadata": {},
   "outputs": [
    {
     "data": {
      "text/plain": [
       "<AxesSubplot:xlabel='AVERAGE CLASS SIZE', ylabel='sat_score'>"
      ]
     },
     "execution_count": 35,
     "metadata": {},
     "output_type": "execute_result"
    },
    {
     "data": {
      "image/png": "[encoded data removed]",
      "text/plain": [
       "<Figure size 432x288 with 1 Axes>"
      ]
     },
     "metadata": {
      "needs_background": "light"
     },
     "output_type": "display_data"
    }
   ],
   "source": [
    "combined.plot.scatter(x=\"AVERAGE CLASS SIZE\", y=\"sat_score\")"
   ]
  },
  {
   "cell_type": "markdown",
   "metadata": {},
   "source": [
    "there seems to be a positive relationship between average class size and the sat_score"
   ]
  },
  {
   "cell_type": "code",
   "execution_count": 37,
   "metadata": {},
   "outputs": [],
   "source": [
    "boros_best=combined.groupby(\"borough\").agg(np.mean)[\"sat_score\"]"
   ]
  },
  {
   "cell_type": "code",
   "execution_count": 38,
   "metadata": {},
   "outputs": [
    {
     "name": "stdout",
     "output_type": "stream",
     "text": [
      "borough\n",
      "Bronx            1157.598203\n",
      "Brooklyn         1181.364461\n",
      "Manhattan        1278.331410\n",
      "Queens           1286.753032\n",
      "Staten Island    1382.500000\n",
      "Name: sat_score, dtype: float64\n"
     ]
    }
   ],
   "source": [
    "print(boros_best)"
   ]
  },
  {
   "cell_type": "code",
   "execution_count": 39,
   "metadata": {},
   "outputs": [],
   "source": [
    "c=combined[combined[\"sat_score\"]<1000][\"SCHOOL NAME\"]"
   ]
  },
  {
   "cell_type": "code",
   "execution_count": 40,
   "metadata": {},
   "outputs": [
    {
     "name": "stdout",
     "output_type": "stream",
     "text": [
      "91                  INTERNATIONAL COMMUNITY HIGH SCHOOL\n",
      "125                 ACADEMY FOR LANGUAGE AND TECHNOLOGY\n",
      "126                     BRONX INTERNATIONAL HIGH SCHOOL\n",
      "139               KINGSBRIDGE INTERNATIONAL HIGH SCHOOL\n",
      "141               INTERNATIONAL SCHOOL FOR LIBERAL ARTS\n",
      "176    PAN AMERICAN INTERNATIONAL HIGH SCHOOL AT MONROE\n",
      "179                       HIGH SCHOOL OF WORLD CULTURES\n",
      "188                  BROOKLYN INTERNATIONAL HIGH SCHOOL\n",
      "225       INTERNATIONAL HIGH SCHOOL AT PROSPECT HEIGHTS\n",
      "237                          IT TAKES A VILLAGE ACADEMY\n",
      "253                           MULTICULTURAL HIGH SCHOOL\n",
      "286              PAN AMERICAN INTERNATIONAL HIGH SCHOOL\n",
      "Name: SCHOOL NAME, dtype: object\n"
     ]
    }
   ],
   "source": [
    "print(c)"
   ]
  },
  {
   "cell_type": "code",
   "execution_count": 41,
   "metadata": {},
   "outputs": [],
   "source": [
    "b=combined[combined[\"sat_score\"]>1200][\"SCHOOL NAME\"]"
   ]
  },
  {
   "cell_type": "code",
   "execution_count": 42,
   "metadata": {},
   "outputs": [
    {
     "name": "stdout",
     "output_type": "stream",
     "text": [
      "3                                MARTA VALLE HIGH SCHOOL\n",
      "4      NEW EXPLORATIONS INTO SCIENCE, TECHNOLOGY AND ...\n",
      "5                         BARD HIGH SCHOOL EARLY COLLEGE\n",
      "10                                      PACE HIGH SCHOOL\n",
      "11     URBAN ASSEMBLY SCHOOL OF DESIGN AND CONSTRUCTI...\n",
      "                             ...                        \n",
      "353                              TOTTENVILLE HIGH SCHOOL\n",
      "354                          SUSAN E. WAGNER HIGH SCHOOL\n",
      "355    RALPH R. MCKEE CAREER AND TECHNICAL EDUCATION ...\n",
      "356                  STATEN ISLAND TECHNICAL HIGH SCHOOL\n",
      "361                 ALL CITY LEADERSHIP SECONDARY SCHOOL\n",
      "Name: SCHOOL NAME, Length: 172, dtype: object\n"
     ]
    }
   ],
   "source": [
    "print(b)"
   ]
  },
  {
   "cell_type": "code",
   "execution_count": 43,
   "metadata": {},
   "outputs": [],
   "source": [
    "a=combined[(combined[\"sat_score\"]>1000) & (combined[\"sat_score\"]<1200)][\"SCHOOL NAME\"]"
   ]
  },
  {
   "cell_type": "code",
   "execution_count": 44,
   "metadata": {},
   "outputs": [
    {
     "name": "stdout",
     "output_type": "stream",
     "text": [
      "0          HENRY STREET SCHOOL FOR INTERNATIONAL STUDIES\n",
      "1                    UNIVERSITY NEIGHBORHOOD HIGH SCHOOL\n",
      "2                             EAST SIDE COMMUNITY SCHOOL\n",
      "6      47 THE AMERICAN SIGN LANGUAGE AND ENGLISH SECO...\n",
      "7                           FOOD AND FINANCE HIGH SCHOOL\n",
      "                             ...                        \n",
      "357                 ACADEMY FOR ENVIRONMENTAL LEADERSHIP\n",
      "358          EBC HIGH SCHOOL FOR PUBLIC SERVICE–BUSHWICK\n",
      "359                   BUSHWICK SCHOOL FOR SOCIAL JUSTICE\n",
      "360                            ACADEMY OF URBAN PLANNING\n",
      "362    BUSHWICK LEADERS HIGH SCHOOL FOR ACADEMIC EXCE...\n",
      "Name: SCHOOL NAME, Length: 178, dtype: object\n"
     ]
    }
   ],
   "source": [
    "print(a)"
   ]
  },
  {
   "cell_type": "code",
   "execution_count": 45,
   "metadata": {},
   "outputs": [],
   "source": [
    "school={}\n",
    "for s in c:\n",
    "    school[s]=1\n",
    "for s in b:\n",
    "    school[s]=5\n",
    "for s in a:\n",
    "    school[s]=3\n",
    "    "
   ]
  },
  {
   "cell_type": "code",
   "execution_count": 46,
   "metadata": {},
   "outputs": [
    {
     "name": "stdout",
     "output_type": "stream",
     "text": [
      "{'INTERNATIONAL COMMUNITY HIGH SCHOOL': 1, 'ACADEMY FOR LANGUAGE AND TECHNOLOGY': 1, 'BRONX INTERNATIONAL HIGH SCHOOL': 1, 'KINGSBRIDGE INTERNATIONAL HIGH SCHOOL': 1, 'INTERNATIONAL SCHOOL FOR LIBERAL ARTS': 1, 'PAN AMERICAN INTERNATIONAL HIGH SCHOOL AT MONROE': 1, 'HIGH SCHOOL OF WORLD CULTURES': 1, 'BROOKLYN INTERNATIONAL HIGH SCHOOL': 1, 'INTERNATIONAL HIGH SCHOOL AT PROSPECT HEIGHTS': 1, 'IT TAKES A VILLAGE ACADEMY': 1, 'MULTICULTURAL HIGH SCHOOL': 1, 'PAN AMERICAN INTERNATIONAL HIGH SCHOOL': 1, 'MARTA VALLE HIGH SCHOOL': 5, 'NEW EXPLORATIONS INTO SCIENCE, TECHNOLOGY AND MATH HIGH SCHOOL': 5, 'BARD HIGH SCHOOL EARLY COLLEGE': 5, 'PACE HIGH SCHOOL': 5, 'URBAN ASSEMBLY SCHOOL OF DESIGN AND CONSTRUCTION, THE': 5, 'NYC ISCHOOL': 5, 'MANHATTAN BUSINESS ACADEMY': 5, 'BUSINESS OF SPORTS SCHOOL': 5, 'THE HIGH SCHOOL FOR LANGUAGE AND DIPLOMACY': 5, 'HIGH SCHOOL FOR ENVIRONMENTAL STUDIES': 5, 'PROFESSIONAL PERFORMING ARTS HIGH SCHOOL': 5, 'BARUCH COLLEGE CAMPUS HIGH SCHOOL': 5, 'N.Y.C. LAB SCHOOL FOR COLLABORATIVE STUDIES': 5, 'N.Y.C. MUSEUM SCHOOL': 5, 'ELEANOR ROOSEVELT HIGH SCHOOL': 5, 'MILLENNIUM HIGH SCHOOL': 5, 'HIGH SCHOOL FOR HEALTH PROFESSIONS AND HUMAN SERVICES': 5, 'LEADERSHIP AND PUBLIC SERVICE HIGH SCHOOL': 5, 'MANHATTAN ACADEMY FOR ARTS & LANGUAGE': 5, 'HUDSON HIGH SCHOOL OF LEARNING TECHNOLOGIES': 5, 'INTERNATIONAL HIGH SCHOOL AT UNION SQUARE': 5, 'MANHATTAN VILLAGE ACADEMY': 5, 'MANHATTAN INTERNATIONAL HIGH SCHOOL': 5, 'STUYVESANT HIGH SCHOOL': 5, 'HIGH SCHOOL OF ECONOMICS AND FINANCE': 5, 'TALENT UNLIMITED HIGH SCHOOL': 5, 'MURRY BERGTRAUM HIGH SCHOOL FOR BUSINESS CAREERS': 5, 'JACQUELINE KENNEDY ONASSIS HIGH SCHOOL': 5, 'REPERTORY COMPANY HIGH SCHOOL FOR THEATRE ARTS': 5, 'HIGH SCHOOL FOR DUAL LANGUAGE AND ASIAN STUDIES': 5, 'THE URBAN ASSEMBLY NEW YORK HARBOR SCHOOL': 5, 'THE HIGH SCHOOL OF FASHION INDUSTRIES': 5, 'HUMANITIES PREPARATORY ACADEMY': 5, 'CHELSEA CAREER AND TECHNICAL EDUCATION HIGH SCHOOL': 5, 'ART AND DESIGN HIGH SCHOOL': 5, 'LIFE SCIENCES SECONDARY SCHOOL': 5, 'THE URBAN ASSEMBLY SCHOOL FOR GREEN CAREERS': 5, 'THE GLOBAL LEARNING COLLABORATIVE': 5, 'FRANK MCCOURT HIGH SCHOOL': 5, 'BEACON HIGH SCHOOL': 5, 'FIORELLO H. LAGUARDIA HIGH SCHOOL OF MUSIC & ART AND PERFORMING ARTS': 5, 'HIGH SCHOOL OF ARTS AND TECHNOLOGY': 5, 'MANHATTAN / HUNTER SCIENCE HIGH SCHOOL': 5, 'MANHATTAN CENTER FOR SCIENCE AND MATHEMATICS': 5, 'CENTRAL PARK EAST HIGH SCHOOL': 5, \"YOUNG WOMEN'S LEADERSHIP SCHOOL\": 5, 'MOTT HALL HIGH SCHOOL': 5, 'COLUMBIA SECONDARY SCHOOL FOR MATH, SCIENCE, AND ENGINEERING': 5, 'FREDERICK DOUGLASS ACADEMY': 5, 'THURGOOD MARSHALL ACADEMY FOR LEARNING AND SOCIAL CHANGE': 5, 'HIGH SCHOOL FOR MATHEMATICS, SCIENCE AND ENGINEERING AT CITY COLLEGE': 5, 'CITY COLLEGE ACADEMY OF THE ARTS': 5, 'HIGH SCHOOL FOR EXCELLENCE AND INNOVATION': 5, 'HIGH SCHOOL FOR HEALTH CAREERS AND SCIENCES': 5, 'A. PHILIP RANDOLPH CAMPUS HIGH SCHOOL': 5, 'UNIVERSITY HEIGHTS SECONDARY SCHOOL': 5, 'HOSTOSsLINCOLN ACADEMY OF SCIENCE': 5, 'BRONX ACADEMY OF LETTERS': 5, 'BRONX STUDIO SCHOOL FOR WRITERS AND ARTISTS': 5, 'ANTONIA PANTOJA PREPARATORY ACADEMY, A COLLEGE BOARD SCHOOL': 5, 'HERBERT H. LEHMAN HIGH SCHOOL': 5, 'BRONX BRIDGES HIGH SCHOOL': 5, 'URBAN ASSEMBLY SCHOOL FOR APPLIED MATH AND SCIENCE, THE': 5, 'BRONX CENTER FOR SCIENCE AND MATHEMATICS': 5, 'BRONX EARLY COLLEGE ACADEMY FOR TEACHING & LEARNING': 5, 'BRONX HIGH SCHOOL FOR MEDICAL SCIENCE': 5, 'BRONX SCHOOL FOR LAW, GOVERNMENT AND JUSTICE': 5, 'RIVERDALE / KINGSBRIDGE ACADEMY (MIDDLE SCHOOL / HIGH SCHOOL 141)': 5, 'BELMONT PREPARATORY HIGH SCHOOL': 5, 'DEWITT CLINTON HIGH SCHOOL': 5, 'CELIA CRUZ BRONX HIGH SCHOOL OF MUSIC, THE': 5, 'BRONX HIGH SCHOOL OF SCIENCE': 5, 'MARBLE HILL HIGH SCHOOL FOR INTERNATIONAL STUDIES': 5, 'HIGH SCHOOL OF AMERICAN STUDIES AT LEHMAN COLLEGE': 5, 'COLLEGIATE INSTITUTE FOR MATH AND SCIENCE': 5, 'BRONX HIGH SCHOOL FOR THE VISUAL ARTS': 5, 'PELHAM PREPARATORY ACADEMY': 5, 'BRONX LATIN': 5, 'THE CINEMA SCHOOL': 5, 'BRONX CAREER AND COLLEGE PREPARATORY HIGH SCHOOL': 5, 'SCIENCE SKILLS CENTER HIGH SCHOOL FOR SCIENCE, TECHNOLOGY AND THE CREATIVE ARTS': 5, 'BROOKLYN TECHNICAL HIGH SCHOOL': 5, 'THE URBAN ASSEMBLY SCHOOL FOR LAW AND JUSTICE': 5, 'URBAN ASSEMBLY INSTITUTE OF MATH AND SCIENCE FOR YOUNG WOMEN': 5, 'BEDFORD ACADEMY HIGH SCHOOL': 5, 'BENJAMIN BANNEKER ACADEMY': 5, 'CITY POLYTECHNIC HIGH SCHOOL OF ENGINEERING, ARCHITECTURE, AND TECHNOLOGY': 5, 'FOUNDATIONS ACADEMY': 5, 'BROOKLYN LATIN SCHOOL, THE': 5, 'SCHOOL FOR LEGAL STUDIES': 5, 'THE HIGH SCHOOL FOR ENTERPRISE, BUSINESS AND TECHNOLOGY': 5, 'SECONDARY SCHOOL FOR LAW': 5, 'SCHOOL FOR INTERNATIONAL STUDIES': 5, 'BROOKLYN HIGH SCHOOL OF THE ARTS': 5, 'SUNSET PARK HIGH SCHOOL': 5, 'THE BROOKLYN ACADEMY OF GLOBAL FINANCE': 5, 'SCIENCE, TECHNOLOGY AND RESEARCH EARLY COLLEGE HIGH SCHOOL AT ERASMUS': 5, 'HIGH SCHOOL FOR PUBLIC SERVICE: HEROES OF TOMORROW': 5, 'MEDGAR EVERS COLLEGE PREPARATORY SCHOOL': 5, 'CLARA BARTON HIGH SCHOOL': 5, 'EAST NEW YORK FAMILY ACADEMY': 5, 'NEW UTRECHT HIGH SCHOOL': 5, 'HIGH SCHOOL OF TELECOMMUNICATION ARTS AND TECHNOLOGY': 5, 'FORT HAMILTON HIGH SCHOOL': 5, 'FRANKLIN DELANO ROOSEVELT HIGH SCHOOL': 5, 'THE URBAN ASSEMBLY SCHOOL FOR CRIMINAL JUSTICE': 5, 'RACHEL CARSON HIGH SCHOOL FOR COASTAL STUDIES': 5, 'ABRAHAM LINCOLN HIGH SCHOOL': 5, 'KINGSBOROUGH EARLY COLLEGE SCHOOL': 5, 'EDWARD R. MURROW HIGH SCHOOL': 5, 'JOHN DEWEY HIGH SCHOOL': 5, 'BROOKLYN STUDIO SECONDARY SCHOOL': 5, 'MIDWOOD HIGH SCHOOL': 5, 'JAMES MADISON HIGH SCHOOL': 5, 'LEON M. GOLDSTEIN HIGH SCHOOL FOR THE SCIENCES': 5, 'BROOKLYN COLLEGE ACADEMY': 5, 'ACADEMY OF FINANCE AND ENTERPRISE': 5, 'HIGH SCHOOL OF APPLIED COMMUNICATION': 5, 'CIVIC LEADERSHIP ACADEMY': 5, 'BARD HIGH SCHOOL EARLY COLLEGE II': 5, 'NEWTOWN HIGH SCHOOL': 5, 'GROVER CLEVELAND HIGH SCHOOL': 5, 'ROBERT F. WAGNER, JR. SECONDARY SCHOOL FOR ARTS AND TECHNOLOGY': 5, 'QUEENS VOCATIONAL AND TECHNICAL HIGH SCHOOL': 5, 'AVIATION CAREER & TECHNICAL EDUCATION HIGH SCHOOL': 5, 'QUEENS SCHOOL OF INQUIRY, THE': 5, 'EASTsWEST SCHOOL OF INTERNATIONAL STUDIES': 5, 'WORLD JOURNALISM PREPARATORY: A COLLEGE BOARD SCHOOL': 5, 'JOHN BOWNE HIGH SCHOOL': 5, 'FLUSHING HIGH SCHOOL': 5, 'TOWNSEND HARRIS HIGH SCHOOL': 5, 'ROBERT F. KENNEDY COMMUNITY HIGH SCHOOL': 5, 'BENJAMIN N. CARDOZO HIGH SCHOOL': 5, 'FRANCIS LEWIS HIGH SCHOOL': 5, 'BAYSIDE HIGH SCHOOL': 5, 'QUEENS HIGH SCHOOL OF TEACHING, LIBERAL ARTS AND THE SCIENCES': 5, 'CHANNEL VIEW SCHOOL FOR RESEARCH': 5, 'ROBERT H. GODDARD HIGH SCHOOL OF COMMUNICATION ARTS AND TECHNOLOGY': 5, \"SCHOLARS' ACADEMY\": 5, 'HIGH SCHOOL FOR CONSTRUCTION TRADES, ENGINEERING AND ARCHITECTURE': 5, 'YORK EARLY COLLEGE ACADEMY': 5, 'QUEENS COLLEGIATE: A COLLEGE BOARD SCHOOL': 5, 'HILLSIDE ARTS & LETTERS ACADEMY': 5, 'FOREST HILLS HIGH SCHOOL': 5, 'THOMAS A. EDISON CAREER AND TECHNICAL EDUCATION HIGH SCHOOL': 5, 'QUEENS GATEWAY TO HEALTH SCIENCES SECONDARY SCHOOL': 5, 'QUEENS METROPOLITAN HIGH SCHOOL': 5, 'QUEENS HIGH SCHOOL FOR THE SCIENCES AT YORK COLLEGE': 5, \"YOUNG WOMEN'S LEADERSHIP SCHOOL, QUEENS\": 5, 'EXCELSIOR PREPARATORY HIGH SCHOOL': 5, 'GEORGE WASHINGTON CARVER HIGH SCHOOL FOR THE SCIENCES': 5, 'CAMBRIA HEIGHTS ACADEMY': 5, 'MATHEMATICS, SCIENCE RESEARCH AND TECHNOLOGY MAGNET HIGH SCHOOL': 5, \"YOUNG WOMEN'S LEADERSHIP SCHOOL, ASTORIA\": 5, 'ACADEMY FOR CAREERS IN TELEVISION AND FILM': 5, 'WILLIAM CULLEN BRYANT HIGH SCHOOL': 5, 'LONG ISLAND CITY HIGH SCHOOL': 5, 'FRANK SINATRA SCHOOL OF THE ARTS HIGH SCHOOL': 5, 'INFORMATION TECHNOLOGY HIGH SCHOOL': 5, 'ACADEMY OF AMERICAN STUDIES': 5, 'BACCALAUREATE SCHOOL FOR GLOBAL EDUCATION': 5, 'CSI HIGH SCHOOL FOR INTERNATIONAL STUDIES': 5, 'THE MICHAEL J. PETRIDES SCHOOL': 5, 'NEW DORP HIGH SCHOOL': 5, 'PORT RICHMOND HIGH SCHOOL': 5, 'CURTIS HIGH SCHOOL': 5, 'TOTTENVILLE HIGH SCHOOL': 5, 'SUSAN E. WAGNER HIGH SCHOOL': 5, 'RALPH R. MCKEE CAREER AND TECHNICAL EDUCATION HIGH SCHOOL': 5, 'STATEN ISLAND TECHNICAL HIGH SCHOOL': 5, 'ALL CITY LEADERSHIP SECONDARY SCHOOL': 5, 'HENRY STREET SCHOOL FOR INTERNATIONAL STUDIES': 3, 'UNIVERSITY NEIGHBORHOOD HIGH SCHOOL': 3, 'EAST SIDE COMMUNITY SCHOOL': 3, '47 THE AMERICAN SIGN LANGUAGE AND ENGLISH SECONDARY SCHOOL': 3, 'FOOD AND FINANCE HIGH SCHOOL': 3, 'ESSEX STREET ACADEMY': 3, 'HIGH SCHOOL OF HOSPITALITY MANAGEMENT': 3, 'FACING HISTORY SCHOOL, THE': 3, 'URBAN ASSEMBLY ACADEMY OF GOVERNMENT AND LAW, THE': 3, 'URBAN ASSEMBLY SCHOOL OF BUSINESS FOR YOUNG WOMEN, THE': 3, 'GRAMERCY ARTS HIGH SCHOOL': 3, 'LANDMARK HIGH SCHOOL': 3, 'VANGUARD HIGH SCHOOL': 3, 'UNITY CENTER FOR URBAN TECHNOLOGIES': 3, 'MANHATTAN BRIDGES HIGH SCHOOL': 3, 'NEW DESIGN HIGH SCHOOL': 3, 'RICHARD R. GREEN HIGH SCHOOL OF TEACHING': 3, 'HIGH SCHOOL FOR ARTS, IMAGINATION AND INQUIRY': 3, 'URBAN ASSEMBLY SCHOOL FOR MEDIA STUDIES, THE': 3, 'WADLEIGH SECONDARY SCHOOL FOR THE PERFORMING & VISUAL ARTS': 3, 'HIGH SCHOOL FOR LAW, ADVOCACY AND COMMUNITY JUSTICE': 3, 'FREDERICK DOUGLASS ACADEMY II SECONDARY SCHOOL': 3, 'COALITION SCHOOL FOR SOCIAL CHANGE': 3, 'PARK EAST HIGH SCHOOL': 3, 'HERITAGE SCHOOL, THE': 3, 'ACADEMY FOR SOCIAL ACTION: A COLLEGE BOARD SCHOOL': 3, 'URBAN ASSEMBLY SCHOOL FOR THE PERFORMING ARTS': 3, 'COMMUNITY HEALTH ACADEMY OF THE HEIGHTS': 3, 'WASHINGTON HEIGHTS EXPEDITIONARY LEARNING SCHOOL': 3, 'HIGH SCHOOL FOR INTERNATIONAL BUSINESS AND FINANCE': 3, 'HIGH SCHOOL FOR MEDIA AND COMMUNICATIONS': 3, 'HIGH SCHOOL FOR LAW AND PUBLIC SERVICE': 3, 'GREGORIO LUPERON HIGH SCHOOL FOR SCIENCE AND MATHEMATICS': 3, 'SOUTH BRONX PREPARATORY: A COLLEGE BOARD SCHOOL': 3, 'COMMUNITY SCHOOL FOR SOCIAL JUSTICE': 3, 'MOTT HAVEN VILLAGE PREPARATORY HIGH SCHOOL': 3, 'FOREIGN LANGUAGE ACADEMY OF GLOBAL STUDIES': 3, 'BRONX LEADERSHIP ACADEMY II HIGH SCHOOL': 3, 'NEW EXPLORERS HIGH SCHOOL': 3, 'URBAN ASSEMBLY SCHOOL FOR CAREERS IN SPORTS': 3, 'ALFRED E. SMITH CAREER AND TECHNICAL EDUCATION HIGH SCHOOL': 3, 'HEALTH OPPORTUNITIES HIGH SCHOOL': 3, \"WOMEN'S ACADEMY OF EXCELLENCE\": 3, 'RENAISSANCE HIGH SCHOOL FOR MUSICAL THEATER & TECHNOLOGY': 3, 'PABLO NERUDA ACADEMY FOR ARCHITECTURE AND WORLD STUDIES': 3, 'MILLENNIUM ART ACADEMY': 3, 'HOLCOMBE L. RUCKER SCHOOL OF COMMUNITY RESEARCH': 3, 'FELISA RINCON DE GAUTIER INSTITUTE FOR LAW AND PUBLIC POLICY, THE': 3, 'BANANA KELLY HIGH SCHOOL': 3, 'BRONX EXPEDITIONARY LEARNING HIGH SCHOOL': 3, 'EAGLE ACADEMY FOR YOUNG MEN': 3, 'EXIMIUS COLLEGE PREPARATORY ACADEMY: A COLLEGE BOARD SCHOOL': 3, 'MOTT HALL BRONX HIGH SCHOOL': 3, 'VALIDUS PREPARATORY ACADEMY: AN EXPEDITIONARY LEARNING SCHOOL': 3, 'LEADERSHIP INSTITUTE': 3, 'MORRIS ACADEMY FOR COLLABORATIVE STUDIES': 3, 'DREAMYARD PREPARATORY SCHOOL': 3, 'SCHOOL FOR EXCELLENCE': 3, 'BRONX HIGH SCHOOL OF BUSINESS': 3, 'FREDERICK DOUGLASS ACADEMY III SECONDARY SCHOOL': 3, 'BRONX LEADERSHIP ACADEMY HIGH SCHOOL': 3, 'HIGH SCHOOL FOR VIOLIN AND DANCE': 3, 'BRONX ENGINEERING AND TECHNOLOGY ACADEMY': 3, 'THEATRE ARTS PRODUCTION COMPANY SCHOOL': 3, 'THE MARIE CURIE SCHOOL FOR MEDICINE, NURSING, AND HEALTH PROFESSIONS': 3, 'WEST BRONX ACADEMY FOR THE FUTURE': 3, 'BRONX SCHOOL OF LAW AND FINANCE': 3, 'INsTECH ACADEMY (M.S. / HIGH SCHOOL 368)': 3, 'KNOWLEDGE AND POWER PREPARATORY ACADEMY INTERNATIONAL HIGH SCHOOL (KAPPA)': 3, 'HIGH SCHOOL FOR TEACHING AND THE PROFESSIONS': 3, 'FORDHAM HIGH SCHOOL FOR THE ARTS': 3, 'FORDHAM LEADERSHIP ACADEMY FOR BUSINESS AND TECHNOLOGY': 3, 'BRONX HIGH SCHOOL FOR LAW AND COMMUNITY SERVICE': 3, 'BRONX THEATRE HIGH SCHOOL': 3, 'DISCOVERY HIGH SCHOOL': 3, 'BRONX HEALTH SCIENCES HIGH SCHOOL': 3, 'BRONX HIGH SCHOOL FOR WRITING AND COMMUNICATION ARTS': 3, 'BRONX LAB SCHOOL': 3, 'ACADEMY FOR SCHOLARSHIP AND ENTREPRENEURSHIP: A COLLEGE BOARD SCHOOL': 3, 'HIGH SCHOOL OF COMPUTERS AND TECHNOLOGY': 3, 'BRONX ACADEMY OF HEALTH CAREERS': 3, 'ASTOR COLLEGIATE ACADEMY': 3, 'HARRY S TRUMAN HIGH SCHOOL': 3, 'NEW WORLD HIGH SCHOOL': 3, 'THE BRONXWOOD PREPARATORY ACADEMY': 3, 'HIGH SCHOOL FOR CONTEMPORARY ARTS': 3, 'BRONX AEROSPACE HIGH SCHOOL': 3, 'METROPOLITAN HIGH SCHOOL, THE': 3, 'EXPLORATIONS ACADEMY': 3, 'EAST BRONX ACADEMY FOR THE FUTURE': 3, 'PEACE AND DIVERSITY ACADEMY': 3, 'FANNIE LOU HAMER FREEDOM HIGH SCHOOL': 3, 'WINGS ACADEMY': 3, 'MONROE ACADEMY FOR VISUAL ARTS & DESIGN': 3, 'DR. SUSAN S. MCKINNEY SECONDARY SCHOOL OF THE ARTS': 3, 'URBAN ASSEMBLY HIGH SCHOOL OF MUSIC AND ART': 3, 'BROOKLYN COMMUNITY HIGH SCHOOL OF COMMUNICATION, ARTS AND MEDIA': 3, 'ACORN COMMUNITY HIGH SCHOOL': 3, 'GEORGE WESTINGHOUSE CAREER AND TECHNICAL EDUCATION HIGH SCHOOL': 3, 'JUAN MOREL CAMPOS SECONDARY SCHOOL': 3, 'GREEN SCHOOL: AN ACADEMY FOR ENVIRONMENTAL CAREERS': 3, 'PROGRESS HIGH SCHOOL FOR PROFESSIONAL CAREERS': 3, 'BROOKLYN PREPARATORY HIGH SCHOOL': 3, 'WILLIAMSBURG HIGH SCHOOL FOR ARCHITECTURE AND DESIGN': 3, 'WILLIAMSBURG PREPARATORY SCHOOL': 3, 'LYONS COMMUNITY SCHOOL': 3, 'AUTOMOTIVE HIGH SCHOOL': 3, 'FRANCES PERKINS ACADEMY': 3, 'EL PUENTE ACADEMY FOR PEACE AND JUSTICE': 3, 'BROOKLYN SCHOOL FOR GLOBAL STUDIES': 3, 'BROOKLYN SECONDARY SCHOOL FOR COLLABORATIVE STUDIES': 3, 'SECONDARY SCHOOL FOR JOURNALISM': 3, 'PARK SLOPE COLLEGIATE': 3, 'COBBLE HILL SCHOOL OF AMERICAN STUDIES': 3, 'FREDERICK DOUGLASS ACADEMY IV SECONDARY SCHOOL': 3, 'BOYS AND GIRLS HIGH SCHOOL': 3, 'BROOKLYN HIGH SCHOOL FOR LAW AND TECHNOLOGY': 3, 'ACADEMY FOR COLLEGE PREPARATION AND CAREER EXPLORATION: A COLLEGE BOARD SCHOOL': 3, 'ACADEMY OF HOSPITALITY AND TOURISM': 3, 'THE HIGH SCHOOL FOR GLOBAL CITIZENSHIP': 3, 'SCHOOL FOR HUMAN RIGHTS, THE': 3, 'SCHOOL FOR DEMOCRACY AND LEADERSHIP': 3, 'HIGH SCHOOL FOR YOUTH AND COMMUNITY DEVELOPMENT AT ERASMUS': 3, 'HIGH SCHOOL FOR SERVICE & LEARNING AT ERASMUS': 3, 'BROOKLYN ACADEMY OF SCIENCE AND THE ENVIRONMENT': 3, 'BROOKLYN SCHOOL FOR MUSIC & THEATRE': 3, 'BROOKLYN GENERATION SCHOOL': 3, 'BROOKLYN THEATRE ARTS HIGH SCHOOL': 3, 'KURT HAHN EXPEDITIONARY LEARNING SCHOOL': 3, 'VICTORY COLLEGIATE HIGH SCHOOL': 3, 'ARTS & MEDIA PREPARATORY ACADEMY': 3, 'HIGH SCHOOL FOR INNOVATION IN ADVERTISING AND MEDIA': 3, 'CULTURAL ACADEMY FOR THE ARTS AND SCIENCES': 3, 'HIGH SCHOOL FOR MEDICAL PROFESSIONS': 3, 'ACADEMY FOR CONSERVATION AND THE ENVIRONMENT': 3, 'URBAN ACTION ACADEMY': 3, 'FDNY HIGH SCHOOL FOR FIRE AND LIFE SAFETY': 3, 'HIGH SCHOOL FOR CIVIL RIGHTS': 3, 'PERFORMING ARTS AND TECHNOLOGY HIGH SCHOOL': 3, 'WORLD ACADEMY FOR TOTAL COMMUNITY HEALTH HIGH SCHOOL': 3, 'TRANSIT TECH CAREER AND TECHNICAL EDUCATION HIGH SCHOOL': 3, 'ACADEMY OF INNOVATIVE TECHNOLOGY': 3, 'BROOKLYN LAB SCHOOL': 3, 'CYPRESS HILLS COLLEGIATE PREPARATORY SCHOOL': 3, 'W. H. MAXWELL CAREER AND TECHNICAL EDUCATION HIGH SCHOOL': 3, 'THE SCHOOL FOR CLASSICS: AN ACADEMY OF THINKERS, WRITERS AND PERFORMERS': 3, 'INTERNATIONAL HIGH SCHOOL AT LAFAYETTE': 3, 'HIGH SCHOOL OF SPORTS MANAGEMENT': 3, 'LIFE ACADEMY HIGH SCHOOL FOR FILM AND MUSIC': 3, 'EXPEDITIONARY LEARNING SCHOOL FOR COMMUNITY LEADERS': 3, 'WILLIAM E. GRADY CAREER AND TECHNICAL EDUCATION HIGH SCHOOL': 3, 'BROOKLYN COLLEGIATE: A COLLEGE BOARD SCHOOL': 3, 'FREDERICK DOUGLASS ACADEMY VII HIGH SCHOOL': 3, 'TEACHERS PREPARATORY HIGH SCHOOL': 3, 'MIDDLE COLLEGE HIGH SCHOOL AT LAGUARDIA COMMUNITY COLLEGE': 3, 'INTERNATIONAL HIGH SCHOOL AT LAGUARDIA COMMUNITY COLLEGE': 3, 'HIGH SCHOOL FOR ARTS AND BUSINESS': 3, 'FLUSHING INTERNATIONAL HIGH SCHOOL': 3, 'MARTIN VAN BUREN HIGH SCHOOL': 3, 'FREDERICK DOUGLASS ACADEMY VI HIGH SCHOOL': 3, 'QUEENS HIGH SCHOOL FOR INFORMATION, RESEARCH, AND TECHNOLOGY': 3, 'ACADEMY OF MEDICAL TECHNOLOGY: A COLLEGE BOARD SCHOOL': 3, 'AUGUST MARTIN HIGH SCHOOL': 3, 'RICHMOND HILL HIGH SCHOOL': 3, 'JOHN ADAMS HIGH SCHOOL': 3, 'HILLCREST HIGH SCHOOL': 3, 'HIGH SCHOOL FOR LAW ENFORCEMENT AND PUBLIC SAFETY': 3, 'QUEENS PREPARATORY ACADEMY': 3, 'PATHWAYS COLLEGE PREPARATORY SCHOOL: A COLLEGE BOARD SCHOOL': 3, 'PREPARATORY ACADEMY FOR WRITERS: A COLLEGE BOARD SCHOOL': 3, 'HUMANITIES & ARTS MAGNET HIGH SCHOOL': 3, 'NEWCOMERS HIGH SCHOOL': 3, 'GAYNOR MCCOWN EXPEDITIONARY LEARNING SCHOOL': 3, 'ACADEMY FOR ENVIRONMENTAL LEADERSHIP': 3, 'EBC HIGH SCHOOL FOR PUBLIC SERVICE–BUSHWICK': 3, 'BUSHWICK SCHOOL FOR SOCIAL JUSTICE': 3, 'ACADEMY OF URBAN PLANNING': 3, 'BUSHWICK LEADERS HIGH SCHOOL FOR ACADEMIC EXCELLENCE': 3}\n"
     ]
    }
   ],
   "source": [
    "print(school)"
   ]
  },
  {
   "cell_type": "code",
   "execution_count": 47,
   "metadata": {},
   "outputs": [],
   "source": [
    "combined1=pd.DataFrame.from_dict(school, orient=\"index\", columns=[\"school_score\"])"
   ]
  },
  {
   "cell_type": "code",
   "execution_count": 48,
   "metadata": {},
   "outputs": [
    {
     "name": "stdout",
     "output_type": "stream",
     "text": [
      "                                                    school_score\n",
      "INTERNATIONAL COMMUNITY HIGH SCHOOL                            1\n",
      "ACADEMY FOR LANGUAGE AND TECHNOLOGY                            1\n",
      "BRONX INTERNATIONAL HIGH SCHOOL                                1\n",
      "KINGSBRIDGE INTERNATIONAL HIGH SCHOOL                          1\n",
      "INTERNATIONAL SCHOOL FOR LIBERAL ARTS                          1\n",
      "...                                                          ...\n",
      "ACADEMY FOR ENVIRONMENTAL LEADERSHIP                           3\n",
      "EBC HIGH SCHOOL FOR PUBLIC SERVICE–BUSHWICK                    3\n",
      "BUSHWICK SCHOOL FOR SOCIAL JUSTICE                             3\n",
      "ACADEMY OF URBAN PLANNING                                      3\n",
      "BUSHWICK LEADERS HIGH SCHOOL FOR ACADEMIC EXCEL...             3\n",
      "\n",
      "[361 rows x 1 columns]\n"
     ]
    }
   ],
   "source": [
    "print(combined1)"
   ]
  },
  {
   "cell_type": "code",
   "execution_count": 49,
   "metadata": {},
   "outputs": [],
   "source": [
    "combined1.reset_index(inplace = True)"
   ]
  },
  {
   "cell_type": "code",
   "execution_count": 50,
   "metadata": {},
   "outputs": [],
   "source": [
    "combined1.rename(columns={\"index\":\"SCHOOL NAME\",\"school_score\":\"SCHOOL SCORE\"}, inplace=True)"
   ]
  },
  {
   "cell_type": "code",
   "execution_count": 51,
   "metadata": {},
   "outputs": [],
   "source": [
    "combined2=pd.merge(combined, combined1, how=\"left\", on=\"SCHOOL NAME\")"
   ]
  },
  {
   "cell_type": "code",
   "execution_count": 52,
   "metadata": {},
   "outputs": [
    {
     "data": {
      "text/plain": [
       "0                    INTERNATIONAL COMMUNITY HIGH SCHOOL\n",
       "1                    ACADEMY FOR LANGUAGE AND TECHNOLOGY\n",
       "2                        BRONX INTERNATIONAL HIGH SCHOOL\n",
       "3                  KINGSBRIDGE INTERNATIONAL HIGH SCHOOL\n",
       "4                  INTERNATIONAL SCHOOL FOR LIBERAL ARTS\n",
       "                             ...                        \n",
       "356                 ACADEMY FOR ENVIRONMENTAL LEADERSHIP\n",
       "357          EBC HIGH SCHOOL FOR PUBLIC SERVICE–BUSHWICK\n",
       "358                   BUSHWICK SCHOOL FOR SOCIAL JUSTICE\n",
       "359                            ACADEMY OF URBAN PLANNING\n",
       "360    BUSHWICK LEADERS HIGH SCHOOL FOR ACADEMIC EXCE...\n",
       "Name: SCHOOL NAME, Length: 361, dtype: object"
      ]
     },
     "execution_count": 52,
     "metadata": {},
     "output_type": "execute_result"
    }
   ],
   "source": [
    "combined1[\"SCHOOL NAME\"]"
   ]
  },
  {
   "cell_type": "code",
   "execution_count": 53,
   "metadata": {},
   "outputs": [
    {
     "name": "stdout",
     "output_type": "stream",
     "text": [
      "        DBN                                        SCHOOL NAME  \\\n",
      "0    01M292      HENRY STREET SCHOOL FOR INTERNATIONAL STUDIES   \n",
      "1    01M448                UNIVERSITY NEIGHBORHOOD HIGH SCHOOL   \n",
      "2    01M450                         EAST SIDE COMMUNITY SCHOOL   \n",
      "3    01M509                            MARTA VALLE HIGH SCHOOL   \n",
      "4    01M539  NEW EXPLORATIONS INTO SCIENCE, TECHNOLOGY AND ...   \n",
      "..      ...                                                ...   \n",
      "358  32K545        EBC HIGH SCHOOL FOR PUBLIC SERVICE–BUSHWICK   \n",
      "359  32K549                 BUSHWICK SCHOOL FOR SOCIAL JUSTICE   \n",
      "360  32K552                          ACADEMY OF URBAN PLANNING   \n",
      "361  32K554               ALL CITY LEADERSHIP SECONDARY SCHOOL   \n",
      "362  32K556  BUSHWICK LEADERS HIGH SCHOOL FOR ACADEMIC EXCE...   \n",
      "\n",
      "    Num of SAT Test Takers  SAT Critical Reading Avg. Score  \\\n",
      "0                       29                            355.0   \n",
      "1                       91                            383.0   \n",
      "2                       70                            377.0   \n",
      "3                       44                            390.0   \n",
      "4                      159                            522.0   \n",
      "..                     ...                              ...   \n",
      "358                     88                            384.0   \n",
      "359                     75                            348.0   \n",
      "360                     67                            342.0   \n",
      "361                     39                            428.0   \n",
      "362                     23                            347.0   \n",
      "\n",
      "     SAT Math Avg. Score  SAT Writing Avg. Score  sat_score  \\\n",
      "0                  404.0                   363.0     1122.0   \n",
      "1                  423.0                   366.0     1172.0   \n",
      "2                  402.0                   370.0     1149.0   \n",
      "3                  433.0                   384.0     1207.0   \n",
      "4                  574.0                   525.0     1621.0   \n",
      "..                   ...                     ...        ...   \n",
      "358                409.0                   361.0     1154.0   \n",
      "359                353.0                   334.0     1035.0   \n",
      "360                364.0                   354.0     1060.0   \n",
      "361                465.0                   422.0     1315.0   \n",
      "362                358.0                   350.0     1055.0   \n",
      "\n",
      "                                            SchoolName  AP Test Takers   \\\n",
      "0                                                    0       107.419512   \n",
      "1                         UNIVERSITY NEIGHBORHOOD H.S.        39.000000   \n",
      "2                               EAST SIDE COMMUNITY HS        19.000000   \n",
      "3                                                    0       107.419512   \n",
      "4                       NEW EXPLORATIONS SCI,TECH,MATH       255.000000   \n",
      "..                                                 ...              ...   \n",
      "358                      EBC-HS FOR PUB SERVICE (BUSH)        47.000000   \n",
      "359                                                  0       107.419512   \n",
      "360                          Academy of Urban Planning        76.000000   \n",
      "361               All City Leadership Secondary School         7.000000   \n",
      "362  Bushwick Leaders High School for Academic Exce...        34.000000   \n",
      "\n",
      "     Total Exams Taken  ...  Council District Census Tract        BIN  \\\n",
      "0              131.425  ...               1.0          201  1,003,223   \n",
      "1               49.000  ...               1.0          202  1,003,214   \n",
      "2               21.000  ...               2.0           34  1,005,974   \n",
      "3              131.425  ...               1.0        3,001  1,004,323   \n",
      "4              377.000  ...               2.0        2,201  1,004,070   \n",
      "..                 ...  ...               ...          ...        ...   \n",
      "358             64.000  ...              34.0          393  3,073,462   \n",
      "359            131.425  ...              37.0          435  3,076,908   \n",
      "360            100.000  ...              37.0          435  3,076,908   \n",
      "361              8.000  ...              37.0          433  3,413,715   \n",
      "362             35.000  ...              34.0          393  3,073,761   \n",
      "\n",
      "               BBL                                                NTA  \\\n",
      "0    1,002,690,041  Lower East Side                               ...   \n",
      "1    1,002,590,044  Lower East Side                               ...   \n",
      "2    1,004,390,017  East Village                                  ...   \n",
      "3    1,003,540,080  Chinatown                                     ...   \n",
      "4    1,003,350,001  Lower East Side                               ...   \n",
      "..             ...                                                ...   \n",
      "358  3,032,300,027  Bushwick South                                ...   \n",
      "359  3,033,650,098  Bushwick North                                ...   \n",
      "360  3,033,650,098  Bushwick North                                ...   \n",
      "361  3,033,440,136  Bushwick North                                ...   \n",
      "362  3,032,420,001  Bushwick South                                ...   \n",
      "\n",
      "           lat        lon school_dist    ap_per  SCHOOL SCORE  \n",
      "0    40.713764 -73.985260          01  0.254549           3.0  \n",
      "1    40.712332 -73.984797          01  0.098985           3.0  \n",
      "2    40.729783 -73.983041          01  0.031773           3.0  \n",
      "3    40.720569 -73.985673          01  0.292696           5.0  \n",
      "4    40.718725 -73.979426          01  0.158091           5.0  \n",
      "..         ...        ...         ...       ...           ...  \n",
      "358  40.694482 -73.929154          32  0.077558           3.0  \n",
      "359  40.696962 -73.910816          32  0.247510           3.0  \n",
      "360  40.696962 -73.910816          32  0.190955           3.0  \n",
      "361  40.697408 -73.913153          32  0.026616           5.0  \n",
      "362  40.694996 -73.927986          32  0.073593           3.0  \n",
      "\n",
      "[363 rows x 167 columns]\n"
     ]
    }
   ],
   "source": [
    "print(combined2)"
   ]
  },
  {
   "cell_type": "code",
   "execution_count": 54,
   "metadata": {},
   "outputs": [],
   "source": [
    "combined=combined2"
   ]
  },
  {
   "cell_type": "code",
   "execution_count": 55,
   "metadata": {},
   "outputs": [
    {
     "name": "stdout",
     "output_type": "stream",
     "text": [
      "        DBN                                        SCHOOL NAME  \\\n",
      "0    01M292      HENRY STREET SCHOOL FOR INTERNATIONAL STUDIES   \n",
      "1    01M448                UNIVERSITY NEIGHBORHOOD HIGH SCHOOL   \n",
      "2    01M450                         EAST SIDE COMMUNITY SCHOOL   \n",
      "3    01M509                            MARTA VALLE HIGH SCHOOL   \n",
      "4    01M539  NEW EXPLORATIONS INTO SCIENCE, TECHNOLOGY AND ...   \n",
      "..      ...                                                ...   \n",
      "358  32K545        EBC HIGH SCHOOL FOR PUBLIC SERVICE–BUSHWICK   \n",
      "359  32K549                 BUSHWICK SCHOOL FOR SOCIAL JUSTICE   \n",
      "360  32K552                          ACADEMY OF URBAN PLANNING   \n",
      "361  32K554               ALL CITY LEADERSHIP SECONDARY SCHOOL   \n",
      "362  32K556  BUSHWICK LEADERS HIGH SCHOOL FOR ACADEMIC EXCE...   \n",
      "\n",
      "    Num of SAT Test Takers  SAT Critical Reading Avg. Score  \\\n",
      "0                       29                            355.0   \n",
      "1                       91                            383.0   \n",
      "2                       70                            377.0   \n",
      "3                       44                            390.0   \n",
      "4                      159                            522.0   \n",
      "..                     ...                              ...   \n",
      "358                     88                            384.0   \n",
      "359                     75                            348.0   \n",
      "360                     67                            342.0   \n",
      "361                     39                            428.0   \n",
      "362                     23                            347.0   \n",
      "\n",
      "     SAT Math Avg. Score  SAT Writing Avg. Score  sat_score  \\\n",
      "0                  404.0                   363.0     1122.0   \n",
      "1                  423.0                   366.0     1172.0   \n",
      "2                  402.0                   370.0     1149.0   \n",
      "3                  433.0                   384.0     1207.0   \n",
      "4                  574.0                   525.0     1621.0   \n",
      "..                   ...                     ...        ...   \n",
      "358                409.0                   361.0     1154.0   \n",
      "359                353.0                   334.0     1035.0   \n",
      "360                364.0                   354.0     1060.0   \n",
      "361                465.0                   422.0     1315.0   \n",
      "362                358.0                   350.0     1055.0   \n",
      "\n",
      "                                            SchoolName  AP Test Takers   \\\n",
      "0                                                    0       107.419512   \n",
      "1                         UNIVERSITY NEIGHBORHOOD H.S.        39.000000   \n",
      "2                               EAST SIDE COMMUNITY HS        19.000000   \n",
      "3                                                    0       107.419512   \n",
      "4                       NEW EXPLORATIONS SCI,TECH,MATH       255.000000   \n",
      "..                                                 ...              ...   \n",
      "358                      EBC-HS FOR PUB SERVICE (BUSH)        47.000000   \n",
      "359                                                  0       107.419512   \n",
      "360                          Academy of Urban Planning        76.000000   \n",
      "361               All City Leadership Secondary School         7.000000   \n",
      "362  Bushwick Leaders High School for Academic Exce...        34.000000   \n",
      "\n",
      "     Total Exams Taken  ...  Council District Census Tract        BIN  \\\n",
      "0              131.425  ...               1.0          201  1,003,223   \n",
      "1               49.000  ...               1.0          202  1,003,214   \n",
      "2               21.000  ...               2.0           34  1,005,974   \n",
      "3              131.425  ...               1.0        3,001  1,004,323   \n",
      "4              377.000  ...               2.0        2,201  1,004,070   \n",
      "..                 ...  ...               ...          ...        ...   \n",
      "358             64.000  ...              34.0          393  3,073,462   \n",
      "359            131.425  ...              37.0          435  3,076,908   \n",
      "360            100.000  ...              37.0          435  3,076,908   \n",
      "361              8.000  ...              37.0          433  3,413,715   \n",
      "362             35.000  ...              34.0          393  3,073,761   \n",
      "\n",
      "               BBL                                                NTA  \\\n",
      "0    1,002,690,041  Lower East Side                               ...   \n",
      "1    1,002,590,044  Lower East Side                               ...   \n",
      "2    1,004,390,017  East Village                                  ...   \n",
      "3    1,003,540,080  Chinatown                                     ...   \n",
      "4    1,003,350,001  Lower East Side                               ...   \n",
      "..             ...                                                ...   \n",
      "358  3,032,300,027  Bushwick South                                ...   \n",
      "359  3,033,650,098  Bushwick North                                ...   \n",
      "360  3,033,650,098  Bushwick North                                ...   \n",
      "361  3,033,440,136  Bushwick North                                ...   \n",
      "362  3,032,420,001  Bushwick South                                ...   \n",
      "\n",
      "           lat        lon school_dist    ap_per  SCHOOL SCORE  \n",
      "0    40.713764 -73.985260          01  0.254549           3.0  \n",
      "1    40.712332 -73.984797          01  0.098985           3.0  \n",
      "2    40.729783 -73.983041          01  0.031773           3.0  \n",
      "3    40.720569 -73.985673          01  0.292696           5.0  \n",
      "4    40.718725 -73.979426          01  0.158091           5.0  \n",
      "..         ...        ...         ...       ...           ...  \n",
      "358  40.694482 -73.929154          32  0.077558           3.0  \n",
      "359  40.696962 -73.910816          32  0.247510           3.0  \n",
      "360  40.696962 -73.910816          32  0.190955           3.0  \n",
      "361  40.697408 -73.913153          32  0.026616           5.0  \n",
      "362  40.694996 -73.927986          32  0.073593           3.0  \n",
      "\n",
      "[363 rows x 167 columns]\n"
     ]
    }
   ],
   "source": [
    "print(combined)"
   ]
  },
  {
   "cell_type": "code",
   "execution_count": 56,
   "metadata": {},
   "outputs": [
    {
     "data": {
      "text/html": [
       "<div>\n",
       "<style scoped>\n",
       "    .dataframe tbody tr th:only-of-type {\n",
       "        vertical-align: middle;\n",
       "    }\n",
       "\n",
       "    .dataframe tbody tr th {\n",
       "        vertical-align: top;\n",
       "    }\n",
       "\n",
       "    .dataframe thead th {\n",
       "        text-align: right;\n",
       "    }\n",
       "</style>\n",
       "<table border=\"1\" class=\"dataframe\">\n",
       "  <thead>\n",
       "    <tr style=\"text-align: right;\">\n",
       "      <th></th>\n",
       "      <th>rr_s</th>\n",
       "      <th>rr_t</th>\n",
       "      <th>rr_p</th>\n",
       "      <th>N_p</th>\n",
       "      <th>N_t</th>\n",
       "      <th>N_s</th>\n",
       "    </tr>\n",
       "  </thead>\n",
       "  <tbody>\n",
       "    <tr>\n",
       "      <th>mean</th>\n",
       "      <td>80.936639</td>\n",
       "      <td>83.269972</td>\n",
       "      <td>38.947658</td>\n",
       "      <td>247.721763</td>\n",
       "      <td>39.603306</td>\n",
       "      <td>598.208333</td>\n",
       "    </tr>\n",
       "    <tr>\n",
       "      <th>amax</th>\n",
       "      <td>100.000000</td>\n",
       "      <td>100.000000</td>\n",
       "      <td>93.000000</td>\n",
       "      <td>2804.000000</td>\n",
       "      <td>244.000000</td>\n",
       "      <td>4768.000000</td>\n",
       "    </tr>\n",
       "    <tr>\n",
       "      <th>amin</th>\n",
       "      <td>0.000000</td>\n",
       "      <td>20.000000</td>\n",
       "      <td>4.000000</td>\n",
       "      <td>12.000000</td>\n",
       "      <td>5.000000</td>\n",
       "      <td>70.000000</td>\n",
       "    </tr>\n",
       "  </tbody>\n",
       "</table>\n",
       "</div>"
      ],
      "text/plain": [
       "            rr_s        rr_t       rr_p          N_p         N_t          N_s\n",
       "mean   80.936639   83.269972  38.947658   247.721763   39.603306   598.208333\n",
       "amax  100.000000  100.000000  93.000000  2804.000000  244.000000  4768.000000\n",
       "amin    0.000000   20.000000   4.000000    12.000000    5.000000    70.000000"
      ]
     },
     "execution_count": 56,
     "metadata": {},
     "output_type": "execute_result"
    }
   ],
   "source": [
    "combined[[\"rr_s\",\"rr_t\",\"rr_p\",\"N_p\",\"N_t\",\"N_s\"]].apply([np.mean,np.max,np.min])"
   ]
  },
  {
   "cell_type": "code",
   "execution_count": 57,
   "metadata": {},
   "outputs": [
    {
     "data": {
      "text/plain": [
       "<AxesSubplot:xlabel='N_s', ylabel='sat_score'>"
      ]
     },
     "execution_count": 57,
     "metadata": {},
     "output_type": "execute_result"
    },
    {
     "data": {
      "image/png": "[encoded data removed]",
      "text/plain": [
       "<Figure size 432x288 with 1 Axes>"
      ]
     },
     "metadata": {
      "needs_background": "light"
     },
     "output_type": "display_data"
    }
   ],
   "source": [
    "combined.plot.scatter(x=\"N_s\", y=\"sat_score\")"
   ]
  },
  {
   "cell_type": "markdown",
   "metadata": {},
   "source": [
    "the higher the number of student-respondents the higher the sat_score, which was expected"
   ]
  },
  {
   "cell_type": "code",
   "execution_count": 58,
   "metadata": {},
   "outputs": [
    {
     "data": {
      "text/plain": [
       "<AxesSubplot:xlabel='rr_s', ylabel='sat_score'>"
      ]
     },
     "execution_count": 58,
     "metadata": {},
     "output_type": "execute_result"
    },
    {
     "data": {
      "image/png": "[encoded data removed]",
      "text/plain": [
       "<Figure size 432x288 with 1 Axes>"
      ]
     },
     "metadata": {
      "needs_background": "light"
     },
     "output_type": "display_data"
    }
   ],
   "source": [
    "combined.plot.scatter(x=\"rr_s\", y=\"sat_score\")"
   ]
  },
  {
   "cell_type": "markdown",
   "metadata": {},
   "source": [
    "there is a weak correlation between student response rate and sat_score only above 60 there is a positive correlation"
   ]
  },
  {
   "cell_type": "code",
   "execution_count": 59,
   "metadata": {},
   "outputs": [
    {
     "data": {
      "text/plain": [
       "<AxesSubplot:>"
      ]
     },
     "execution_count": 59,
     "metadata": {},
     "output_type": "execute_result"
    },
    {
     "data": {
      "image/png": "[encoded data removed]",
      "text/plain": [
       "<Figure size 432x288 with 1 Axes>"
      ]
     },
     "metadata": {
      "needs_background": "light"
     },
     "output_type": "display_data"
    }
   ],
   "source": [
    "columns=[\"rr_s\",\"rr_t\",\"rr_p\",\"N_p\",\"N_t\",\"N_s\"]\n",
    "combined.corr()[\"sat_score\"][columns].plot.bar()"
   ]
  },
  {
   "cell_type": "code",
   "execution_count": null,
   "metadata": {},
   "outputs": [],
   "source": []
  }
 ],
 "metadata": {
  "kernelspec": {
   "display_name": "Python 3",
   "language": "python",
   "name": "python3"
  },
  "language_info": {
   "codemirror_mode": {
    "name": "ipython",
    "version": 3
   },
   "file_extension": ".py",
   "mimetype": "text/x-python",
   "name": "python",
   "nbconvert_exporter": "python",
   "pygments_lexer": "ipython3",
   "version": "3.8.5"
  }
 },
 "nbformat": 4,
 "nbformat_minor": 4
}
